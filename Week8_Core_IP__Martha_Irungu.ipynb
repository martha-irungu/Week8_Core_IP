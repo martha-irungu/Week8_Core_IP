{
  "nbformat": 4,
  "nbformat_minor": 0,
  "metadata": {
    "colab": {
      "name": "Week8_Core_IP__Martha Irungu.ipynb",
      "provenance": [],
      "collapsed_sections": [],
      "toc_visible": true,
      "authorship_tag": "ABX9TyMITCb8TBMzt56QxN/UsGYD",
      "include_colab_link": true
    },
    "kernelspec": {
      "name": "python3",
      "display_name": "Python 3"
    }
  },
  "cells": [
    {
      "cell_type": "markdown",
      "metadata": {
        "id": "view-in-github",
        "colab_type": "text"
      },
      "source": [
        "<a href=\"https://colab.research.google.com/github/martha-irungu/Week8_Core_IP/blob/master/Week8_Core_IP__Martha_Irungu.ipynb\" target=\"_parent\"><img src=\"https://colab.research.google.com/assets/colab-badge.svg\" alt=\"Open In Colab\"/></a>"
      ]
    },
    {
      "cell_type": "markdown",
      "metadata": {
        "id": "pENxVHtfyD2e",
        "colab_type": "text"
      },
      "source": [
        "# 1. Defining the question"
      ]
    },
    {
      "cell_type": "markdown",
      "metadata": {
        "id": "l-2iiiK-yFaC",
        "colab_type": "text"
      },
      "source": [
        "a) Specifying the question"
      ]
    },
    {
      "cell_type": "markdown",
      "metadata": {
        "id": "M5XQ1S3YyQzs",
        "colab_type": "text"
      },
      "source": [
        "The objective of this study is to use the healthcare dataset that Nairobi Hospital collected to accomplish the following:  \n",
        "\n",
        "i)Build a model that determines whether or not the patient's symptoms indicate that the patient has hypothyroid.\n",
        "\n",
        "ii)Build the following models using the dataset to make the prediction\n",
        "\n",
        "*   Random Forests\n",
        "*   Ada boosted trees\n",
        "*   Support vector machine\n",
        "\n",
        "iii)Compare the performance of the models and state your conclusion\n"
      ]
    },
    {
      "cell_type": "markdown",
      "metadata": {
        "id": "-icv5CqSyTCS",
        "colab_type": "text"
      },
      "source": [
        "**b)Defining the Metrics for success**"
      ]
    },
    {
      "cell_type": "markdown",
      "metadata": {
        "id": "N1OOomtsyX7s",
        "colab_type": "text"
      },
      "source": [
        "To meet the objective of the study we will create the above mentioned models and assess suitability of each of the tested models on their appropriateness to solve the given problem. \n",
        "\n",
        "We will subject the evaluation to the assumptions of each model, the features that important to the model and compare performance based on metrics such as RMSE, MSE, accuracy scores and make our conlusion\n"
      ]
    },
    {
      "cell_type": "markdown",
      "metadata": {
        "id": "enIktBagyjBe",
        "colab_type": "text"
      },
      "source": [
        "**c) Understanding the context**\n",
        "\n",
        "Nairobi Hospital conducted a clinical camp to test for hypothyroidism. The data collected focused on Thyroid patients.This a health care dataset.\n",
        "\n",
        "Hypothyroidism is a condition in which your thyroid gland doesn't produce enough of certain crucial hormones.The thyroid is a small, butterfly-shaped gland that sits at the front of your neck. It releases hormones to help your body regulate and use energy.\n",
        "\n",
        "The most common signs and symptoms of hypothyroidism include:fatigue, depression, constipation,feeling cold,dry skin,weight gain,muscle weakness,decreased sweating,slowed heart rate,elevated blood cholesterol,pain and stiffness in,your joints,dry, thinning hair just to mention a few.\n",
        "\n",
        "Worldwide, the most common cause of hypothyroidism is inadequate iodine intake. In countries where iodine consumption is adequate, the most common cause is an autoimmune condition called Hashimoto’s thyroiditis, whereby the body’s antibodies attack the thyroid gland and cause it to produce less thyroid hormone. Other causes include thyroid surgery, radioactive iodine treatment and injury to the hypothalamus.In the kenyan context, this is a condition that many can live with without noticing as health care services are nit availble to all. That is why Nairobi Hopital took this initiative to understand this condition.\n",
        "\n",
        "Similar studies as per this link have been done by Kenyatta Hospital and Agakhan University Hospital, this condition is described to be the second commonest endocrine disease, observed in Kenyatta Hosptital second to Diabetes. \n",
        "\n",
        "http://erepository.uonbi.ac.ke/bitstream/handle/11295/25104/DR._KENNETH_K._SIGILAI_MBCHB_NAIROBI.pdf?sequence=4&isAllowed=y\n",
        "\n",
        "https://link.springer.com/article/10.1186/s12902-016-0107-9"
      ]
    },
    {
      "cell_type": "markdown",
      "metadata": {
        "id": "Jy7Nv8CuyrQz",
        "colab_type": "text"
      },
      "source": [
        "**d) Recording the experimental design**"
      ]
    },
    {
      "cell_type": "markdown",
      "metadata": {
        "id": "CUfYflikysTl",
        "colab_type": "text"
      },
      "source": [
        "The following steps were implemented\n",
        "\n",
        "1.) Business Understanding, this keeps you grounded to the main question and gives light throughout all your analysis.\n",
        "\n",
        "2.) Reading the data.\n",
        "\n",
        "3.) Data Exploration and cleaning to prepare the data for modelling\n",
        "\n",
        "4.) EDA, here is where I did my analysis and visualization of the data.\n",
        "\n",
        "5.) Checking for multicollinearity.\n",
        "\n",
        "6.) Model Development."
      ]
    },
    {
      "cell_type": "markdown",
      "metadata": {
        "id": "7kbEASZ_yxw7",
        "colab_type": "text"
      },
      "source": [
        "**e)Data Relevance**"
      ]
    },
    {
      "cell_type": "markdown",
      "metadata": {
        "id": "EJZ-KW7jy2dM",
        "colab_type": "text"
      },
      "source": [
        "The data provided for this study consists of columns with factors likely to influence hypothyroidism. The study was conducted by a Nairobi hospital which is a reputable health care facility in Kenya.This data is relevant for the study."
      ]
    },
    {
      "cell_type": "markdown",
      "metadata": {
        "id": "1MxhqDNHzJ70",
        "colab_type": "text"
      },
      "source": [
        "# 2. Importing the libraries"
      ]
    },
    {
      "cell_type": "code",
      "metadata": {
        "id": "cAEe3EcCzU6L",
        "colab_type": "code",
        "colab": {
          "base_uri": "https://localhost:8080/",
          "height": 71
        },
        "outputId": "acdd388d-1cc8-453d-e6a0-34e71e4b2669"
      },
      "source": [
        "import numpy as np\n",
        "import pandas as pd\n",
        "import seaborn as sns\n",
        "import matplotlib.pyplot as plt\n",
        "from sklearn.model_selection import GridSearchCV\n",
        "from sklearn.linear_model import Ridge\n",
        "from sklearn.linear_model import LinearRegression\n",
        "from sklearn.metrics import mean_squared_error\n",
        "from sklearn.model_selection import train_test_split\n",
        "from sklearn import metrics \n",
        "import matplotlib\n",
        "from matplotlib import pyplot\n",
        "from sklearn import linear_model\n",
        "from sklearn.ensemble import AdaBoostClassifier\n",
        "from sklearn.tree import DecisionTreeClassifier\n",
        "from sklearn.preprocessing import MinMaxScaler\n",
        "from sklearn.ensemble import RandomForestClassifier \n",
        "from sklearn.metrics import f1_score, accuracy_score\n",
        "from sklearn.model_selection import GridSearchCV \n",
        "from sklearn.model_selection import RandomizedSearchCV \n",
        "from sklearn.model_selection import ShuffleSplit\n",
        "from sklearn.metrics import  accuracy_score\n",
        "from sklearn.metrics import confusion_matrix\n",
        "\n"
      ],
      "execution_count": 3,
      "outputs": [
        {
          "output_type": "stream",
          "text": [
            "/usr/local/lib/python3.6/dist-packages/statsmodels/tools/_testing.py:19: FutureWarning: pandas.util.testing is deprecated. Use the functions in the public API at pandas.testing instead.\n",
            "  import pandas.util.testing as tm\n"
          ],
          "name": "stderr"
        }
      ]
    },
    {
      "cell_type": "markdown",
      "metadata": {
        "id": "hbHJsqAoB2X6",
        "colab_type": "text"
      },
      "source": [
        "#3. Reading and checking the data"
      ]
    },
    {
      "cell_type": "code",
      "metadata": {
        "id": "QyV8kdhe9Mzq",
        "colab_type": "code",
        "colab": {
          "base_uri": "https://localhost:8080/",
          "height": 224
        },
        "outputId": "8cf3b540-2ba4-40fc-c198-98dc5c75fc6e"
      },
      "source": [
        "#Previewing the first 5 columns of the dataset\n",
        "df= pd.read_csv('hypothyroid.csv')\n",
        "\n",
        "df.head()"
      ],
      "execution_count": 4,
      "outputs": [
        {
          "output_type": "execute_result",
          "data": {
            "text/html": [
              "<div>\n",
              "<style scoped>\n",
              "    .dataframe tbody tr th:only-of-type {\n",
              "        vertical-align: middle;\n",
              "    }\n",
              "\n",
              "    .dataframe tbody tr th {\n",
              "        vertical-align: top;\n",
              "    }\n",
              "\n",
              "    .dataframe thead th {\n",
              "        text-align: right;\n",
              "    }\n",
              "</style>\n",
              "<table border=\"1\" class=\"dataframe\">\n",
              "  <thead>\n",
              "    <tr style=\"text-align: right;\">\n",
              "      <th></th>\n",
              "      <th>status</th>\n",
              "      <th>age</th>\n",
              "      <th>sex</th>\n",
              "      <th>on_thyroxine</th>\n",
              "      <th>query_on_thyroxine</th>\n",
              "      <th>on_antithyroid_medication</th>\n",
              "      <th>thyroid_surgery</th>\n",
              "      <th>query_hypothyroid</th>\n",
              "      <th>query_hyperthyroid</th>\n",
              "      <th>pregnant</th>\n",
              "      <th>sick</th>\n",
              "      <th>tumor</th>\n",
              "      <th>lithium</th>\n",
              "      <th>goitre</th>\n",
              "      <th>TSH_measured</th>\n",
              "      <th>TSH</th>\n",
              "      <th>T3_measured</th>\n",
              "      <th>T3</th>\n",
              "      <th>TT4_measured</th>\n",
              "      <th>TT4</th>\n",
              "      <th>T4U_measured</th>\n",
              "      <th>T4U</th>\n",
              "      <th>FTI_measured</th>\n",
              "      <th>FTI</th>\n",
              "      <th>TBG_measured</th>\n",
              "      <th>TBG</th>\n",
              "    </tr>\n",
              "  </thead>\n",
              "  <tbody>\n",
              "    <tr>\n",
              "      <th>0</th>\n",
              "      <td>hypothyroid</td>\n",
              "      <td>72</td>\n",
              "      <td>M</td>\n",
              "      <td>f</td>\n",
              "      <td>f</td>\n",
              "      <td>f</td>\n",
              "      <td>f</td>\n",
              "      <td>f</td>\n",
              "      <td>f</td>\n",
              "      <td>f</td>\n",
              "      <td>f</td>\n",
              "      <td>f</td>\n",
              "      <td>f</td>\n",
              "      <td>f</td>\n",
              "      <td>y</td>\n",
              "      <td>30</td>\n",
              "      <td>y</td>\n",
              "      <td>0.60</td>\n",
              "      <td>y</td>\n",
              "      <td>15</td>\n",
              "      <td>y</td>\n",
              "      <td>1.48</td>\n",
              "      <td>y</td>\n",
              "      <td>10</td>\n",
              "      <td>n</td>\n",
              "      <td>?</td>\n",
              "    </tr>\n",
              "    <tr>\n",
              "      <th>1</th>\n",
              "      <td>hypothyroid</td>\n",
              "      <td>15</td>\n",
              "      <td>F</td>\n",
              "      <td>t</td>\n",
              "      <td>f</td>\n",
              "      <td>f</td>\n",
              "      <td>f</td>\n",
              "      <td>f</td>\n",
              "      <td>f</td>\n",
              "      <td>f</td>\n",
              "      <td>f</td>\n",
              "      <td>f</td>\n",
              "      <td>f</td>\n",
              "      <td>f</td>\n",
              "      <td>y</td>\n",
              "      <td>145</td>\n",
              "      <td>y</td>\n",
              "      <td>1.70</td>\n",
              "      <td>y</td>\n",
              "      <td>19</td>\n",
              "      <td>y</td>\n",
              "      <td>1.13</td>\n",
              "      <td>y</td>\n",
              "      <td>17</td>\n",
              "      <td>n</td>\n",
              "      <td>?</td>\n",
              "    </tr>\n",
              "    <tr>\n",
              "      <th>2</th>\n",
              "      <td>hypothyroid</td>\n",
              "      <td>24</td>\n",
              "      <td>M</td>\n",
              "      <td>f</td>\n",
              "      <td>f</td>\n",
              "      <td>f</td>\n",
              "      <td>f</td>\n",
              "      <td>f</td>\n",
              "      <td>f</td>\n",
              "      <td>f</td>\n",
              "      <td>f</td>\n",
              "      <td>f</td>\n",
              "      <td>f</td>\n",
              "      <td>f</td>\n",
              "      <td>y</td>\n",
              "      <td>0</td>\n",
              "      <td>y</td>\n",
              "      <td>0.20</td>\n",
              "      <td>y</td>\n",
              "      <td>4</td>\n",
              "      <td>y</td>\n",
              "      <td>1</td>\n",
              "      <td>y</td>\n",
              "      <td>0</td>\n",
              "      <td>n</td>\n",
              "      <td>?</td>\n",
              "    </tr>\n",
              "    <tr>\n",
              "      <th>3</th>\n",
              "      <td>hypothyroid</td>\n",
              "      <td>24</td>\n",
              "      <td>F</td>\n",
              "      <td>f</td>\n",
              "      <td>f</td>\n",
              "      <td>f</td>\n",
              "      <td>f</td>\n",
              "      <td>f</td>\n",
              "      <td>f</td>\n",
              "      <td>f</td>\n",
              "      <td>f</td>\n",
              "      <td>f</td>\n",
              "      <td>f</td>\n",
              "      <td>f</td>\n",
              "      <td>y</td>\n",
              "      <td>430</td>\n",
              "      <td>y</td>\n",
              "      <td>0.40</td>\n",
              "      <td>y</td>\n",
              "      <td>6</td>\n",
              "      <td>y</td>\n",
              "      <td>1.04</td>\n",
              "      <td>y</td>\n",
              "      <td>6</td>\n",
              "      <td>n</td>\n",
              "      <td>?</td>\n",
              "    </tr>\n",
              "    <tr>\n",
              "      <th>4</th>\n",
              "      <td>hypothyroid</td>\n",
              "      <td>77</td>\n",
              "      <td>M</td>\n",
              "      <td>f</td>\n",
              "      <td>f</td>\n",
              "      <td>f</td>\n",
              "      <td>f</td>\n",
              "      <td>f</td>\n",
              "      <td>f</td>\n",
              "      <td>f</td>\n",
              "      <td>f</td>\n",
              "      <td>f</td>\n",
              "      <td>f</td>\n",
              "      <td>f</td>\n",
              "      <td>y</td>\n",
              "      <td>7.30</td>\n",
              "      <td>y</td>\n",
              "      <td>1.20</td>\n",
              "      <td>y</td>\n",
              "      <td>57</td>\n",
              "      <td>y</td>\n",
              "      <td>1.28</td>\n",
              "      <td>y</td>\n",
              "      <td>44</td>\n",
              "      <td>n</td>\n",
              "      <td>?</td>\n",
              "    </tr>\n",
              "  </tbody>\n",
              "</table>\n",
              "</div>"
            ],
            "text/plain": [
              "        status age sex on_thyroxine  ... FTI_measured FTI TBG_measured TBG\n",
              "0  hypothyroid  72   M            f  ...            y  10            n   ?\n",
              "1  hypothyroid  15   F            t  ...            y  17            n   ?\n",
              "2  hypothyroid  24   M            f  ...            y   0            n   ?\n",
              "3  hypothyroid  24   F            f  ...            y   6            n   ?\n",
              "4  hypothyroid  77   M            f  ...            y  44            n   ?\n",
              "\n",
              "[5 rows x 26 columns]"
            ]
          },
          "metadata": {
            "tags": []
          },
          "execution_count": 4
        }
      ]
    },
    {
      "cell_type": "code",
      "metadata": {
        "id": "GbKLGG7jsVTi",
        "colab_type": "code",
        "colab": {
          "base_uri": "https://localhost:8080/",
          "height": 224
        },
        "outputId": "e3bfa15f-a321-4387-e7c6-df833cdf68e1"
      },
      "source": [
        "#Previewing the last 5 columns of the dataset\n",
        "df.tail()"
      ],
      "execution_count": 5,
      "outputs": [
        {
          "output_type": "execute_result",
          "data": {
            "text/html": [
              "<div>\n",
              "<style scoped>\n",
              "    .dataframe tbody tr th:only-of-type {\n",
              "        vertical-align: middle;\n",
              "    }\n",
              "\n",
              "    .dataframe tbody tr th {\n",
              "        vertical-align: top;\n",
              "    }\n",
              "\n",
              "    .dataframe thead th {\n",
              "        text-align: right;\n",
              "    }\n",
              "</style>\n",
              "<table border=\"1\" class=\"dataframe\">\n",
              "  <thead>\n",
              "    <tr style=\"text-align: right;\">\n",
              "      <th></th>\n",
              "      <th>status</th>\n",
              "      <th>age</th>\n",
              "      <th>sex</th>\n",
              "      <th>on_thyroxine</th>\n",
              "      <th>query_on_thyroxine</th>\n",
              "      <th>on_antithyroid_medication</th>\n",
              "      <th>thyroid_surgery</th>\n",
              "      <th>query_hypothyroid</th>\n",
              "      <th>query_hyperthyroid</th>\n",
              "      <th>pregnant</th>\n",
              "      <th>sick</th>\n",
              "      <th>tumor</th>\n",
              "      <th>lithium</th>\n",
              "      <th>goitre</th>\n",
              "      <th>TSH_measured</th>\n",
              "      <th>TSH</th>\n",
              "      <th>T3_measured</th>\n",
              "      <th>T3</th>\n",
              "      <th>TT4_measured</th>\n",
              "      <th>TT4</th>\n",
              "      <th>T4U_measured</th>\n",
              "      <th>T4U</th>\n",
              "      <th>FTI_measured</th>\n",
              "      <th>FTI</th>\n",
              "      <th>TBG_measured</th>\n",
              "      <th>TBG</th>\n",
              "    </tr>\n",
              "  </thead>\n",
              "  <tbody>\n",
              "    <tr>\n",
              "      <th>3158</th>\n",
              "      <td>negative</td>\n",
              "      <td>58</td>\n",
              "      <td>F</td>\n",
              "      <td>f</td>\n",
              "      <td>f</td>\n",
              "      <td>f</td>\n",
              "      <td>f</td>\n",
              "      <td>f</td>\n",
              "      <td>f</td>\n",
              "      <td>f</td>\n",
              "      <td>f</td>\n",
              "      <td>f</td>\n",
              "      <td>f</td>\n",
              "      <td>f</td>\n",
              "      <td>y</td>\n",
              "      <td>5.80</td>\n",
              "      <td>y</td>\n",
              "      <td>1.70</td>\n",
              "      <td>y</td>\n",
              "      <td>86</td>\n",
              "      <td>y</td>\n",
              "      <td>0.91</td>\n",
              "      <td>y</td>\n",
              "      <td>95</td>\n",
              "      <td>n</td>\n",
              "      <td>?</td>\n",
              "    </tr>\n",
              "    <tr>\n",
              "      <th>3159</th>\n",
              "      <td>negative</td>\n",
              "      <td>29</td>\n",
              "      <td>F</td>\n",
              "      <td>f</td>\n",
              "      <td>f</td>\n",
              "      <td>f</td>\n",
              "      <td>f</td>\n",
              "      <td>f</td>\n",
              "      <td>f</td>\n",
              "      <td>f</td>\n",
              "      <td>f</td>\n",
              "      <td>f</td>\n",
              "      <td>f</td>\n",
              "      <td>f</td>\n",
              "      <td>y</td>\n",
              "      <td>0.80</td>\n",
              "      <td>y</td>\n",
              "      <td>1.80</td>\n",
              "      <td>y</td>\n",
              "      <td>99</td>\n",
              "      <td>y</td>\n",
              "      <td>1.01</td>\n",
              "      <td>y</td>\n",
              "      <td>98</td>\n",
              "      <td>n</td>\n",
              "      <td>?</td>\n",
              "    </tr>\n",
              "    <tr>\n",
              "      <th>3160</th>\n",
              "      <td>negative</td>\n",
              "      <td>77</td>\n",
              "      <td>M</td>\n",
              "      <td>f</td>\n",
              "      <td>f</td>\n",
              "      <td>f</td>\n",
              "      <td>f</td>\n",
              "      <td>f</td>\n",
              "      <td>f</td>\n",
              "      <td>f</td>\n",
              "      <td>f</td>\n",
              "      <td>f</td>\n",
              "      <td>f</td>\n",
              "      <td>f</td>\n",
              "      <td>y</td>\n",
              "      <td>1.20</td>\n",
              "      <td>y</td>\n",
              "      <td>0.60</td>\n",
              "      <td>y</td>\n",
              "      <td>71</td>\n",
              "      <td>y</td>\n",
              "      <td>0.68</td>\n",
              "      <td>y</td>\n",
              "      <td>104</td>\n",
              "      <td>n</td>\n",
              "      <td>?</td>\n",
              "    </tr>\n",
              "    <tr>\n",
              "      <th>3161</th>\n",
              "      <td>negative</td>\n",
              "      <td>74</td>\n",
              "      <td>F</td>\n",
              "      <td>f</td>\n",
              "      <td>f</td>\n",
              "      <td>f</td>\n",
              "      <td>f</td>\n",
              "      <td>f</td>\n",
              "      <td>f</td>\n",
              "      <td>f</td>\n",
              "      <td>f</td>\n",
              "      <td>f</td>\n",
              "      <td>f</td>\n",
              "      <td>f</td>\n",
              "      <td>y</td>\n",
              "      <td>1.30</td>\n",
              "      <td>y</td>\n",
              "      <td>0.10</td>\n",
              "      <td>y</td>\n",
              "      <td>65</td>\n",
              "      <td>y</td>\n",
              "      <td>0.48</td>\n",
              "      <td>y</td>\n",
              "      <td>137</td>\n",
              "      <td>n</td>\n",
              "      <td>?</td>\n",
              "    </tr>\n",
              "    <tr>\n",
              "      <th>3162</th>\n",
              "      <td>negative</td>\n",
              "      <td>56</td>\n",
              "      <td>F</td>\n",
              "      <td>t</td>\n",
              "      <td>f</td>\n",
              "      <td>f</td>\n",
              "      <td>f</td>\n",
              "      <td>f</td>\n",
              "      <td>f</td>\n",
              "      <td>f</td>\n",
              "      <td>f</td>\n",
              "      <td>f</td>\n",
              "      <td>f</td>\n",
              "      <td>f</td>\n",
              "      <td>y</td>\n",
              "      <td>0</td>\n",
              "      <td>y</td>\n",
              "      <td>1.80</td>\n",
              "      <td>y</td>\n",
              "      <td>139</td>\n",
              "      <td>y</td>\n",
              "      <td>0.97</td>\n",
              "      <td>y</td>\n",
              "      <td>143</td>\n",
              "      <td>n</td>\n",
              "      <td>?</td>\n",
              "    </tr>\n",
              "  </tbody>\n",
              "</table>\n",
              "</div>"
            ],
            "text/plain": [
              "        status age sex on_thyroxine  ... FTI_measured  FTI TBG_measured TBG\n",
              "3158  negative  58   F            f  ...            y   95            n   ?\n",
              "3159  negative  29   F            f  ...            y   98            n   ?\n",
              "3160  negative  77   M            f  ...            y  104            n   ?\n",
              "3161  negative  74   F            f  ...            y  137            n   ?\n",
              "3162  negative  56   F            t  ...            y  143            n   ?\n",
              "\n",
              "[5 rows x 26 columns]"
            ]
          },
          "metadata": {
            "tags": []
          },
          "execution_count": 5
        }
      ]
    },
    {
      "cell_type": "code",
      "metadata": {
        "id": "nwi9lEca9M97",
        "colab_type": "code",
        "colab": {
          "base_uri": "https://localhost:8080/",
          "height": 34
        },
        "outputId": "bef1b3f3-f5f1-4749-bccd-8f40705b5a0f"
      },
      "source": [
        "#Checking the shape of our dataset\n",
        "df.shape"
      ],
      "execution_count": null,
      "outputs": [
        {
          "output_type": "execute_result",
          "data": {
            "text/plain": [
              "(3163, 26)"
            ]
          },
          "metadata": {
            "tags": []
          },
          "execution_count": 3
        }
      ]
    },
    {
      "cell_type": "markdown",
      "metadata": {
        "id": "2WOACeebOYl7",
        "colab_type": "text"
      },
      "source": [
        "We have 3,163 records and 26 columns"
      ]
    },
    {
      "cell_type": "code",
      "metadata": {
        "id": "VB1-cd12-EYA",
        "colab_type": "code",
        "colab": {
          "base_uri": "https://localhost:8080/",
          "height": 119
        },
        "outputId": "9eb3cea3-1a69-415e-b6e0-79a1bb6b3e60"
      },
      "source": [
        "#Checking the columns in our dataset\n",
        "df.columns"
      ],
      "execution_count": null,
      "outputs": [
        {
          "output_type": "execute_result",
          "data": {
            "text/plain": [
              "Index(['status', 'age', 'sex', 'on_thyroxine', 'query_on_thyroxine',\n",
              "       'on_antithyroid_medication', 'thyroid_surgery', 'query_hypothyroid',\n",
              "       'query_hyperthyroid', 'pregnant', 'sick', 'tumor', 'lithium', 'goitre',\n",
              "       'TSH_measured', 'TSH', 'T3_measured', 'T3', 'TT4_measured', 'TT4',\n",
              "       'T4U_measured', 'T4U', 'FTI_measured', 'FTI', 'TBG_measured', 'TBG'],\n",
              "      dtype='object')"
            ]
          },
          "metadata": {
            "tags": []
          },
          "execution_count": 4
        }
      ]
    },
    {
      "cell_type": "markdown",
      "metadata": {
        "id": "hU1aOtqTJwum",
        "colab_type": "text"
      },
      "source": [
        "*Below is a brief description of the columns in our dataset **bold text**\n",
        "\n",
        "\n",
        "* Age- age of the patient\n",
        "* Sex- gender of the patient; male or female\n",
        "* on_thyroxine: A hormone that is made by the thyroid gland  and is one of the most important thyroid hormones. We have True or False values in iur dataset. \n",
        "\n",
        "* query_on_thyroxine-A query on this hormone. We have True or False values.\n",
        "* on_antithyroid_medication: Antithyroid drugs are most often used to treat an overactive thyroid (hyperthyroidism) caused by Graves' disease. These drugs block the formation of thyroid hormone by the thyroid gland. We have True or False values.\n",
        "* thyroid_surgery: This is an operation that involves the surgical removal of all or part of the thyroid gland. We have True or False values. \n",
        "\n",
        "* TSH: levels typically fall between 0.4 and 4.0 milliunits per liter (mU/L), according to the American Thyroid Association. If your level is higher than this, chances are you have an underactive thyroid. We have numeric values\n",
        "* TSH Measured: If this test is done on a patient.We have yes and no values.\n",
        "* Pregnant: We have true or false values. This predisposes patient to the condition \n",
        "* Goitre: is an abnormal enlargement of your thyroid gland. We have True and False values..\n",
        "* T4: The test, called a thyroid function test, looks at levels of thyroid-stimulating hormone (TSH) and thyroxine (T4) in the blood.\n",
        "\n",
        "* FTI: FRTUP Free Thyroxine Index (FTI), Serum\n",
        "* T4U: This is thyroxine utilization rate.\n",
        "\n",
        "* Tumor: an abnormal benign or malignant new growth of tissue. We have True and False values.\n",
        "\n",
        "* Lithium: It is primarily used to treat bipolar disorder and treat major depressive disorder that does not improve following the use of antidepressants. We have True and False values..\n",
        "* TT4: A thyroxine test helps diagnose disorders of the thyroid. Too much or too little T4 can indicate thyroid disease\n",
        "\n",
        "\n",
        "* TBG: The TBG blood test measures the level of a protein that moves thyroid hormone throughout your body. This protein is called thyroxine binding globulin (TBG). We have numeric values.\n",
        "\n",
        "* TBG Measured: If the test has been conducted. We have yes and no values.\n",
        "\n",
        "\n",
        "\n",
        "\n",
        "\n",
        "\n",
        "\n",
        "\n",
        "\n",
        "\n",
        "\n"
      ]
    },
    {
      "cell_type": "code",
      "metadata": {
        "id": "zquu1PwjwCWq",
        "colab_type": "code",
        "colab": {
          "base_uri": "https://localhost:8080/",
          "height": 476
        },
        "outputId": "892015bd-f5ce-4121-f32e-863be201ff5b"
      },
      "source": [
        "#Checking the datatypes\n",
        "df.dtypes"
      ],
      "execution_count": null,
      "outputs": [
        {
          "output_type": "execute_result",
          "data": {
            "text/plain": [
              "status                       object\n",
              "age                          object\n",
              "sex                          object\n",
              "on_thyroxine                 object\n",
              "query_on_thyroxine           object\n",
              "on_antithyroid_medication    object\n",
              "thyroid_surgery              object\n",
              "query_hypothyroid            object\n",
              "query_hyperthyroid           object\n",
              "pregnant                     object\n",
              "sick                         object\n",
              "tumor                        object\n",
              "lithium                      object\n",
              "goitre                       object\n",
              "TSH_measured                 object\n",
              "TSH                          object\n",
              "T3_measured                  object\n",
              "T3                           object\n",
              "TT4_measured                 object\n",
              "TT4                          object\n",
              "T4U_measured                 object\n",
              "T4U                          object\n",
              "FTI_measured                 object\n",
              "FTI                          object\n",
              "TBG_measured                 object\n",
              "TBG                          object\n",
              "dtype: object"
            ]
          },
          "metadata": {
            "tags": []
          },
          "execution_count": 5
        }
      ]
    },
    {
      "cell_type": "markdown",
      "metadata": {
        "id": "FaVT9CkhwI_q",
        "colab_type": "text"
      },
      "source": [
        "All the columns are in object datatype, we will covert each approporiately to ease analysis"
      ]
    },
    {
      "cell_type": "markdown",
      "metadata": {
        "id": "RBxwMF1roDx7",
        "colab_type": "text"
      },
      "source": [
        "# 4. Data cleaning and exploration"
      ]
    },
    {
      "cell_type": "code",
      "metadata": {
        "id": "7px55JZrhJLG",
        "colab_type": "code",
        "colab": {
          "base_uri": "https://localhost:8080/",
          "height": 1000
        },
        "outputId": "8d06f887-f811-4cc6-9a42-0ead632cfd2a"
      },
      "source": [
        "#get to know unique values in each column\n",
        "\n",
        "data_columns = df.columns.to_list()\n",
        "\n",
        "for column in data_columns:\n",
        "    print(\"\\n\")\n",
        "    print(\"Column Name:\", column)\n",
        "    print(df[column].unique())"
      ],
      "execution_count": null,
      "outputs": [
        {
          "output_type": "stream",
          "text": [
            "\n",
            "\n",
            "Column Name: status\n",
            "['hypothyroid' 'negative']\n",
            "\n",
            "\n",
            "Column Name: age\n",
            "['72' '15' '24' '77' '85' '64' '20' '42' '69' '75' '53' '59' '68' '50'\n",
            " '78' '65' '28' '43' '40' '84' '?' '83' '63' '73' '36' '27' '48' '71' '60'\n",
            " '34' '79' '62' '74' '32' '41' '70' '29' '5' '58' '35' '51' '22' '16' '44'\n",
            " '39' '47' '18' '17' '88' '56' '30' '45' '66' '52' '54' '80' '33' '38'\n",
            " '92' '67' '46' '13' '89' '61' '49' '26' '57' '31' '90' '81' '25' '37'\n",
            " '76' '87' '23' '55' '86' '98' '21' '97' '1' '6' '14' '82' '11' '19' '9'\n",
            " '12' '10' '8' '7' '4' '93']\n",
            "\n",
            "\n",
            "Column Name: sex\n",
            "['M' 'F' '?']\n",
            "\n",
            "\n",
            "Column Name: on_thyroxine\n",
            "['f' 't']\n",
            "\n",
            "\n",
            "Column Name: query_on_thyroxine\n",
            "['f' 't']\n",
            "\n",
            "\n",
            "Column Name: on_antithyroid_medication\n",
            "['f' 't']\n",
            "\n",
            "\n",
            "Column Name: thyroid_surgery\n",
            "['f' 't']\n",
            "\n",
            "\n",
            "Column Name: query_hypothyroid\n",
            "['f' 't']\n",
            "\n",
            "\n",
            "Column Name: query_hyperthyroid\n",
            "['f' 't']\n",
            "\n",
            "\n",
            "Column Name: pregnant\n",
            "['f' 't']\n",
            "\n",
            "\n",
            "Column Name: sick\n",
            "['f' 't']\n",
            "\n",
            "\n",
            "Column Name: tumor\n",
            "['f' 't']\n",
            "\n",
            "\n",
            "Column Name: lithium\n",
            "['f' 't']\n",
            "\n",
            "\n",
            "Column Name: goitre\n",
            "['f' 't']\n",
            "\n",
            "\n",
            "Column Name: TSH_measured\n",
            "['y' 'n']\n",
            "\n",
            "\n",
            "Column Name: TSH\n",
            "['30' '145' '0' '430' '7.30' '138' '7.70' '21' '92' '48' '36' '15' '15.30'\n",
            " '25' '61' '28' '170' '54' '216' '56' '71' '46' '70' '34' '53' '9.40'\n",
            " '126' '10' '530' '35' '65' '57' '125' '23' '80' '117' '49' '66' '8.20'\n",
            " '150' '?' '18' '165' '164' '24' '90' '77' '19' '58' '100' '213' '17'\n",
            " '235' '153' '13' '31' '109' '260' '43' '12' '11' '55' '6.50' '20' '7.50'\n",
            " '14' '60' '140' '33' '8.70' '0.25' '10.70' '82' '45' '42' '41' '160' '16'\n",
            " '89' '44' '176' '6.40' '183' '29' '37' '39' '7.90' '59' '68' '38' '47'\n",
            " '143' '6.60' '288' '96' '0.50' '1.20' '1.90' '0.09' '3.10' '0.40' '0.85'\n",
            " '0.30' '0.90' '1.50' '4.60' '0.20' '5.80' '4' '1.40' '2' '2.60' '2.90'\n",
            " '0.80' '4.90' '10.30' '2.30' '0.70' '0.60' '1.30' '2.50' '5.10' '1.70'\n",
            " '2.70' '22' '8.10' '3.30' '5' '3.20' '1.80' '1.10' '0.46' '1' '5.60'\n",
            " '4.40' '16.50' '2.10' '6.30' '5.50' '7.40' '5.90' '0.15' '14.90' '2.20'\n",
            " '9.70' '9.60' '1.60' '3.70' '3' '2.80' '0.10' '4.20' '27' '3.50' '0.05'\n",
            " '19.20' '8' '9.10' '3.60' '7.80' '3.80' '8.50' '9.20' '52' '2.40' '3.90'\n",
            " '0.03' '0.04' '26' '6.10' '0.65' '0.92' '7.60' '8.40' '14.40' '1.05'\n",
            " '0.37' '178' '6.90' '4.50' '4.70' '40' '6' '4.10' '14.30' '5.40' '8.30'\n",
            " '0.06' '8.80' '8.90' '7.10' '4.80' '0.43' '6.70' '200' '8.60' '86' '0.21'\n",
            " '9' '0.26' '3.40' '6.20' '17.40' '85' '1.83' '63' '13.30' '0.02' '0.42'\n",
            " '9.50' '0.84' '0.88' '4.30' '0.67' '0.81' '5.20' '9.80' '76' '0.62'\n",
            " '0.01' '11.40' '88' '0.68' '0.07' '0.69' '0.77' '9.90' '0.64' '13.20'\n",
            " '6.80' '0.28' '11.60' '0.91' '1.01' '0.23' '0.35' '50' '32' '0.83' '0.08']\n",
            "\n",
            "\n",
            "Column Name: T3_measured\n",
            "['y' 'n']\n",
            "\n",
            "\n",
            "Column Name: T3\n",
            "['0.60' '1.70' '0.20' '0.40' '1.20' '1.10' '1.30' '1.90' '?' '0.80' '2.20'\n",
            " '1.50' '2.70' '2' '0.30' '2.10' '0.50' '0.70' '1' '1.40' '2.30' '2.40'\n",
            " '0.90' '1.80' '0' '2.80' '1.60' '6.70' '3.30' '3' '2.50' '2.60' '4'\n",
            " '9.80' '3.90' '3.40' '3.80' '4.50' '3.20' '3.70' '4.30' '2.90' '3.10'\n",
            " '3.50' '3.60' '6.60' '4.90' '8.90' '4.10' '5' '5.30' '7.60' '7.30' '4.20'\n",
            " '4.40' '5.10' '7' '0.10' '0.05' '4.70' '6.20' '5.50' '4.60' '6.10' '8.10'\n",
            " '5.20' '5.60' '4.80' '10.20' '8.60']\n",
            "\n",
            "\n",
            "Column Name: TT4_measured\n",
            "['y' 'n']\n",
            "\n",
            "\n",
            "Column Name: TT4\n",
            "['15' '19' '4' '6' '57' '27' '54' '34' '39' '7.60' '53' '38' '98' '44'\n",
            " '37' '81' '13' '17' '12' '50' '23' '14' '3.90' '52' '32' '30' '84' '10'\n",
            " '55' '24' '28' '11' '6.60' '31' '33' '41' '9' '78' '42' '8.10' '65' '16'\n",
            " '9.70' '46' '22' '61' '2.30' '21' '7.50' '18' '66' '25' '43' '2' '3' '58'\n",
            " '59' '71' '74' '56' '40' '20' '48' '230' '70' '4.10' '63' '5.30' '2.90'\n",
            " '62' '75' '68' '45' '47' '36' '80' '109' '8.60' '83' '82' '101' '76'\n",
            " '103' '112' '206' '110' '93' '79' '121' '?' '107' '88' '187' '254' '115'\n",
            " '113' '260' '117' '164' '97' '64' '129' '111' '106' '95' '87' '105' '90'\n",
            " '67' '134' '35' '193' '143' '130' '108' '86' '96' '92' '99' '216' '152'\n",
            " '125' '138' '194' '91' '120' '102' '170' '126' '116' '140' '94' '159'\n",
            " '85' '210' '89' '151' '247' '139' '153' '178' '123' '137' '161' '7.30'\n",
            " '72' '202' '122' '124' '157' '118' '104' '135' '186' '241' '131' '119'\n",
            " '100' '220' '176' '136' '183' '155' '208' '199' '154' '169' '128' '235'\n",
            " '195' '267' '232' '197' '212' '149' '127' '245' '132' '162' '77' '142'\n",
            " '69' '173' '141' '156' '181' '189' '60' '114' '198' '147' '191' '177'\n",
            " '174' '207' '168' '73' '160' '145' '200' '182' '158' '203' '209' '217'\n",
            " '430' '213' '218' '163' '296' '167' '148' '166' '185' '248' '172' '144'\n",
            " '150' '165' '196' '308' '146' '426' '224' '29' '204' '201' '133' '180'\n",
            " '184' '450' '244' '301' '255' '252' '396' '223' '261' '250' '179' '219'\n",
            " '190' '51' '221' '171' '242' '275' '211' '49' '239' '205' '222' '256'\n",
            " '214' '282' '287' '253' '269' '175' '228' '333' '258' '236' '225' '263'\n",
            " '283' '359' '188' '240']\n",
            "\n",
            "\n",
            "Column Name: T4U_measured\n",
            "['y' 'n']\n",
            "\n",
            "\n",
            "Column Name: T4U\n",
            "['1.48' '1.13' '1' '1.04' '1.28' '1.19' '0.86' '1.05' '1.21' '1.02' '0.92'\n",
            " '1.29' '0.98' '1.08' '1.01' '1.18' '1.10' '1.27' '0.83' '1.11' '0.78'\n",
            " '1.39' '1.12' '0.93' '0.99' '0.90' '1.06' '0.68' '0.67' '1.14' '0.80'\n",
            " '0.96' '0.95' '1.46' '1.03' '0.97' '0.94' '1.09' '1.24' '1.23' '1.53'\n",
            " '1.26' '1.40' '1.17' '0.87' '0.61' '0.70' '1.07' '1.73' '1.45' '1.20'\n",
            " '0.89' '0.84' '0.91' '0.85' '1.35' '0.82' '1.50' '0.74' '1.71' '1.79'\n",
            " '0.73' '0.77' '1.25' '?' '0.88' '0.72' '0.31' '0' '0.79' '0.81' '0.71'\n",
            " '1.93' '1.32' '0.66' '1.68' '1.42' '1.70' '1.83' '1.41' '1.34' '1.65'\n",
            " '1.22' '0.75' '1.74' '0.69' '1.51' '0.76' '1.16' '0.35' '0.62' '0.54'\n",
            " '1.36' '1.33' '1.30' '0.48' '1.59' '1.75' '1.86' '1.38' '1.43' '1.62'\n",
            " '2.01' '0.30' '1.31' '1.15' '1.57' '0.55' '1.66' '0.52' '1.97' '1.47'\n",
            " '0.36' '1.88' '1.55' '0.34' '1.67' '0.58' '0.60' '0.59' '1.37' '1.76'\n",
            " '0.64' '1.80' '0.41' '0.20' '1.77' '0.33' '1.54' '0.46' '0.32' '1.44'\n",
            " '1.56' '0.56' '1.52' '2.03' '0.65' '0.63' '1.96' '0.53' '0.47' '0.29'\n",
            " '2.21' '1.69' '1.64' '1.49' '1.72' '1.58' '0.57' '1.61' '0.28' '2' '1.63'\n",
            " '0.27' '1.94' '0.50' '0.49' '0.40' '0.38']\n",
            "\n",
            "\n",
            "Column Name: FTI_measured\n",
            "['y' 'n']\n",
            "\n",
            "\n",
            "Column Name: FTI\n",
            "['10' '17' '0' '6' '44' '23' '63' '32' '7.50' '61' '41' '76' '45' '34'\n",
            " '81' '11' '16' '46' '22' '12' '5' '47' '29' '37' '60' '8.40' '8.50' '24'\n",
            " '28' '7' '49' '36' '15' '9' '80' '53' '7.20' '68' '6.60' '48' '21' '14'\n",
            " '2' '20' '1.40' '56' '3' '51' '13' '43' '78' '52' '64' '26' '35' '31'\n",
            " '133' '3.40' '54' '8.90' '57' '5.50' '58' '55' '2.80' '66' '4' '40' '50'\n",
            " '8.70' '87' '89' '112' '123' '99' '92' '104' '69' '196' '107' '106' '74'\n",
            " '97' '?' '122' '84' '114' '124' '241' '119' '120' '136' '85' '127' '839'\n",
            " '137' '197' '96' '77' '108' '82' '72' '94' '91' '240' '121' '109' '79'\n",
            " '100' '98' '73' '117' '165' '103' '88' '101' '126' '132' '128' '143'\n",
            " '152' '141' '186' '113' '102' '125' '93' '105' '159' '188' '71' '149'\n",
            " '116' '83' '176' '161' '86' '140' '111' '158' '115' '171' '90' '95' '70'\n",
            " '135' '134' '178' '110' '170' '205' '695' '155' '118' '741' '131' '129'\n",
            " '142' '153' '75' '254' '246' '139' '185' '157' '147' '164' '130' '222'\n",
            " '650' '174' '182' '144' '169' '257' '145' '345' '180' '167' '151' '154'\n",
            " '150' '219' '228' '65' '187' '166' '195' '208' '138' '33' '173' '146'\n",
            " '211' '181' '190' '247' '221' '395' '216' '212' '148' '162' '220' '370'\n",
            " '450' '160' '59' '189' '203' '168' '179' '264' '470' '184' '163' '67'\n",
            " '213' '354' '292' '359' '172' '156' '334' '177' '214' '194' '192' '215'\n",
            " '217' '271' '250' '244' '308' '881' '258' '316' '200' '711' '256' '232'\n",
            " '202' '39' '248' '237' '259' '445' '19' '852' '42' '235' '634' '283'\n",
            " '305' '204' '229' '332' '550' '249' '263' '615' '266' '198' '175' '209'\n",
            " '299' '193' '227' '223' '337' '210' '272' '702' '218' '239' '355' '482'\n",
            " '347' '485' '612' '428']\n",
            "\n",
            "\n",
            "Column Name: TBG_measured\n",
            "['n' 'y']\n",
            "\n",
            "\n",
            "Column Name: TBG\n",
            "['?' '28' '34' '0' '19' '30' '25' '48' '39' '31' '16' '21' '37' '40' '27'\n",
            " '3.10' '38' '108' '20' '36' '17' '23' '35' '32' '63' '9.30' '15' '26'\n",
            " '33' '41' '110' '22' '43' '53' '80' '47' '29' '13' '24' '18' '45' '86'\n",
            " '50' '8.40' '52' '11' '12' '14' '65' '7.30' '8.50' '69' '122']\n"
          ],
          "name": "stdout"
        }
      ]
    },
    {
      "cell_type": "markdown",
      "metadata": {
        "id": "YW-DZSu5IxSH",
        "colab_type": "text"
      },
      "source": [
        "We observe that the columns in the dataset are as classified below:\n",
        "\n",
        "i)The following columns are in False/True values, we will change the data type from object to boolen\n",
        "\n",
        "on_thyroxine\n",
        "\n",
        "query_on_thyroxine\n",
        "\n",
        "on_antithyroid_medicationthyroid_surgery\n",
        "\n",
        "query_hypothyroid\n",
        "\n",
        "query_hyperthyroid\n",
        "\n",
        "pregnant\n",
        "\n",
        "sick\n",
        "\n",
        "tumor\n",
        "\n",
        "lithium\n",
        "\n",
        "goitre\n",
        "\n",
        "ii)The following columns have values categorised into yes and no and for sex is male and female. We will convert the data type to category\n",
        "\n",
        "TSH_measured\n",
        "\n",
        "T3_measured\n",
        "\n",
        "TT4_measured\n",
        "\n",
        "T4U_measured\n",
        "\n",
        "FTI_measured\n",
        "\n",
        "TBG_measured\n",
        "\n",
        "Sex\n",
        "\n",
        "Status\n",
        "\n",
        "\n",
        "iii) The following columns have data that is continous in nature, we will change the data type to float\n",
        "\n",
        "Age\n",
        "\n",
        "TSH\n",
        "\n",
        "T3\n",
        "\n",
        "TT4\n",
        "\n",
        "T4U \n",
        "\n",
        "FTI\n",
        "\n",
        "TBG\n",
        "\n",
        "We also note that some columns such as age, Sex have '?' as values, we will investigate this to establish how this affects the variables in aour dataset\n",
        "\n",
        "\n"
      ]
    },
    {
      "cell_type": "code",
      "metadata": {
        "colab_type": "code",
        "id": "d0t_QU02uihA",
        "colab": {
          "base_uri": "https://localhost:8080/",
          "height": 476
        },
        "outputId": "962c3618-9b8c-47a4-8131-dd2e15d32316"
      },
      "source": [
        "#Checking for null values\n",
        "df.isna().sum()\n"
      ],
      "execution_count": null,
      "outputs": [
        {
          "output_type": "execute_result",
          "data": {
            "text/plain": [
              "status                       0\n",
              "age                          0\n",
              "sex                          0\n",
              "on_thyroxine                 0\n",
              "query_on_thyroxine           0\n",
              "on_antithyroid_medication    0\n",
              "thyroid_surgery              0\n",
              "query_hypothyroid            0\n",
              "query_hyperthyroid           0\n",
              "pregnant                     0\n",
              "sick                         0\n",
              "tumor                        0\n",
              "lithium                      0\n",
              "goitre                       0\n",
              "TSH_measured                 0\n",
              "TSH                          0\n",
              "T3_measured                  0\n",
              "T3                           0\n",
              "TT4_measured                 0\n",
              "TT4                          0\n",
              "T4U_measured                 0\n",
              "T4U                          0\n",
              "FTI_measured                 0\n",
              "FTI                          0\n",
              "TBG_measured                 0\n",
              "TBG                          0\n",
              "dtype: int64"
            ]
          },
          "metadata": {
            "tags": []
          },
          "execution_count": 7
        }
      ]
    },
    {
      "cell_type": "markdown",
      "metadata": {
        "id": "qVMRUgDKDuio",
        "colab_type": "text"
      },
      "source": [
        "It is clear that our dataset had values with '?' when we check missing values using the above funtion it shows no missing values"
      ]
    },
    {
      "cell_type": "code",
      "metadata": {
        "colab_type": "code",
        "id": "XxsvJVs1uihE",
        "colab": {
          "base_uri": "https://localhost:8080/",
          "height": 439
        },
        "outputId": "cc613c4b-60fb-4339-b6ce-ab6470ffea80"
      },
      "source": [
        "# To solve the above challenge, we will replace '?' values with NaN\n",
        "\n",
        "df.replace(\"?\", \"NaN\")\n"
      ],
      "execution_count": null,
      "outputs": [
        {
          "output_type": "execute_result",
          "data": {
            "text/html": [
              "<div>\n",
              "<style scoped>\n",
              "    .dataframe tbody tr th:only-of-type {\n",
              "        vertical-align: middle;\n",
              "    }\n",
              "\n",
              "    .dataframe tbody tr th {\n",
              "        vertical-align: top;\n",
              "    }\n",
              "\n",
              "    .dataframe thead th {\n",
              "        text-align: right;\n",
              "    }\n",
              "</style>\n",
              "<table border=\"1\" class=\"dataframe\">\n",
              "  <thead>\n",
              "    <tr style=\"text-align: right;\">\n",
              "      <th></th>\n",
              "      <th>status</th>\n",
              "      <th>age</th>\n",
              "      <th>sex</th>\n",
              "      <th>on_thyroxine</th>\n",
              "      <th>query_on_thyroxine</th>\n",
              "      <th>on_antithyroid_medication</th>\n",
              "      <th>thyroid_surgery</th>\n",
              "      <th>query_hypothyroid</th>\n",
              "      <th>query_hyperthyroid</th>\n",
              "      <th>pregnant</th>\n",
              "      <th>sick</th>\n",
              "      <th>tumor</th>\n",
              "      <th>lithium</th>\n",
              "      <th>goitre</th>\n",
              "      <th>TSH_measured</th>\n",
              "      <th>TSH</th>\n",
              "      <th>T3_measured</th>\n",
              "      <th>T3</th>\n",
              "      <th>TT4_measured</th>\n",
              "      <th>TT4</th>\n",
              "      <th>T4U_measured</th>\n",
              "      <th>T4U</th>\n",
              "      <th>FTI_measured</th>\n",
              "      <th>FTI</th>\n",
              "      <th>TBG_measured</th>\n",
              "      <th>TBG</th>\n",
              "    </tr>\n",
              "  </thead>\n",
              "  <tbody>\n",
              "    <tr>\n",
              "      <th>0</th>\n",
              "      <td>hypothyroid</td>\n",
              "      <td>72</td>\n",
              "      <td>M</td>\n",
              "      <td>f</td>\n",
              "      <td>f</td>\n",
              "      <td>f</td>\n",
              "      <td>f</td>\n",
              "      <td>f</td>\n",
              "      <td>f</td>\n",
              "      <td>f</td>\n",
              "      <td>f</td>\n",
              "      <td>f</td>\n",
              "      <td>f</td>\n",
              "      <td>f</td>\n",
              "      <td>y</td>\n",
              "      <td>30</td>\n",
              "      <td>y</td>\n",
              "      <td>0.60</td>\n",
              "      <td>y</td>\n",
              "      <td>15</td>\n",
              "      <td>y</td>\n",
              "      <td>1.48</td>\n",
              "      <td>y</td>\n",
              "      <td>10</td>\n",
              "      <td>n</td>\n",
              "      <td>NaN</td>\n",
              "    </tr>\n",
              "    <tr>\n",
              "      <th>1</th>\n",
              "      <td>hypothyroid</td>\n",
              "      <td>15</td>\n",
              "      <td>F</td>\n",
              "      <td>t</td>\n",
              "      <td>f</td>\n",
              "      <td>f</td>\n",
              "      <td>f</td>\n",
              "      <td>f</td>\n",
              "      <td>f</td>\n",
              "      <td>f</td>\n",
              "      <td>f</td>\n",
              "      <td>f</td>\n",
              "      <td>f</td>\n",
              "      <td>f</td>\n",
              "      <td>y</td>\n",
              "      <td>145</td>\n",
              "      <td>y</td>\n",
              "      <td>1.70</td>\n",
              "      <td>y</td>\n",
              "      <td>19</td>\n",
              "      <td>y</td>\n",
              "      <td>1.13</td>\n",
              "      <td>y</td>\n",
              "      <td>17</td>\n",
              "      <td>n</td>\n",
              "      <td>NaN</td>\n",
              "    </tr>\n",
              "    <tr>\n",
              "      <th>2</th>\n",
              "      <td>hypothyroid</td>\n",
              "      <td>24</td>\n",
              "      <td>M</td>\n",
              "      <td>f</td>\n",
              "      <td>f</td>\n",
              "      <td>f</td>\n",
              "      <td>f</td>\n",
              "      <td>f</td>\n",
              "      <td>f</td>\n",
              "      <td>f</td>\n",
              "      <td>f</td>\n",
              "      <td>f</td>\n",
              "      <td>f</td>\n",
              "      <td>f</td>\n",
              "      <td>y</td>\n",
              "      <td>0</td>\n",
              "      <td>y</td>\n",
              "      <td>0.20</td>\n",
              "      <td>y</td>\n",
              "      <td>4</td>\n",
              "      <td>y</td>\n",
              "      <td>1</td>\n",
              "      <td>y</td>\n",
              "      <td>0</td>\n",
              "      <td>n</td>\n",
              "      <td>NaN</td>\n",
              "    </tr>\n",
              "    <tr>\n",
              "      <th>3</th>\n",
              "      <td>hypothyroid</td>\n",
              "      <td>24</td>\n",
              "      <td>F</td>\n",
              "      <td>f</td>\n",
              "      <td>f</td>\n",
              "      <td>f</td>\n",
              "      <td>f</td>\n",
              "      <td>f</td>\n",
              "      <td>f</td>\n",
              "      <td>f</td>\n",
              "      <td>f</td>\n",
              "      <td>f</td>\n",
              "      <td>f</td>\n",
              "      <td>f</td>\n",
              "      <td>y</td>\n",
              "      <td>430</td>\n",
              "      <td>y</td>\n",
              "      <td>0.40</td>\n",
              "      <td>y</td>\n",
              "      <td>6</td>\n",
              "      <td>y</td>\n",
              "      <td>1.04</td>\n",
              "      <td>y</td>\n",
              "      <td>6</td>\n",
              "      <td>n</td>\n",
              "      <td>NaN</td>\n",
              "    </tr>\n",
              "    <tr>\n",
              "      <th>4</th>\n",
              "      <td>hypothyroid</td>\n",
              "      <td>77</td>\n",
              "      <td>M</td>\n",
              "      <td>f</td>\n",
              "      <td>f</td>\n",
              "      <td>f</td>\n",
              "      <td>f</td>\n",
              "      <td>f</td>\n",
              "      <td>f</td>\n",
              "      <td>f</td>\n",
              "      <td>f</td>\n",
              "      <td>f</td>\n",
              "      <td>f</td>\n",
              "      <td>f</td>\n",
              "      <td>y</td>\n",
              "      <td>7.30</td>\n",
              "      <td>y</td>\n",
              "      <td>1.20</td>\n",
              "      <td>y</td>\n",
              "      <td>57</td>\n",
              "      <td>y</td>\n",
              "      <td>1.28</td>\n",
              "      <td>y</td>\n",
              "      <td>44</td>\n",
              "      <td>n</td>\n",
              "      <td>NaN</td>\n",
              "    </tr>\n",
              "    <tr>\n",
              "      <th>...</th>\n",
              "      <td>...</td>\n",
              "      <td>...</td>\n",
              "      <td>...</td>\n",
              "      <td>...</td>\n",
              "      <td>...</td>\n",
              "      <td>...</td>\n",
              "      <td>...</td>\n",
              "      <td>...</td>\n",
              "      <td>...</td>\n",
              "      <td>...</td>\n",
              "      <td>...</td>\n",
              "      <td>...</td>\n",
              "      <td>...</td>\n",
              "      <td>...</td>\n",
              "      <td>...</td>\n",
              "      <td>...</td>\n",
              "      <td>...</td>\n",
              "      <td>...</td>\n",
              "      <td>...</td>\n",
              "      <td>...</td>\n",
              "      <td>...</td>\n",
              "      <td>...</td>\n",
              "      <td>...</td>\n",
              "      <td>...</td>\n",
              "      <td>...</td>\n",
              "      <td>...</td>\n",
              "    </tr>\n",
              "    <tr>\n",
              "      <th>3158</th>\n",
              "      <td>negative</td>\n",
              "      <td>58</td>\n",
              "      <td>F</td>\n",
              "      <td>f</td>\n",
              "      <td>f</td>\n",
              "      <td>f</td>\n",
              "      <td>f</td>\n",
              "      <td>f</td>\n",
              "      <td>f</td>\n",
              "      <td>f</td>\n",
              "      <td>f</td>\n",
              "      <td>f</td>\n",
              "      <td>f</td>\n",
              "      <td>f</td>\n",
              "      <td>y</td>\n",
              "      <td>5.80</td>\n",
              "      <td>y</td>\n",
              "      <td>1.70</td>\n",
              "      <td>y</td>\n",
              "      <td>86</td>\n",
              "      <td>y</td>\n",
              "      <td>0.91</td>\n",
              "      <td>y</td>\n",
              "      <td>95</td>\n",
              "      <td>n</td>\n",
              "      <td>NaN</td>\n",
              "    </tr>\n",
              "    <tr>\n",
              "      <th>3159</th>\n",
              "      <td>negative</td>\n",
              "      <td>29</td>\n",
              "      <td>F</td>\n",
              "      <td>f</td>\n",
              "      <td>f</td>\n",
              "      <td>f</td>\n",
              "      <td>f</td>\n",
              "      <td>f</td>\n",
              "      <td>f</td>\n",
              "      <td>f</td>\n",
              "      <td>f</td>\n",
              "      <td>f</td>\n",
              "      <td>f</td>\n",
              "      <td>f</td>\n",
              "      <td>y</td>\n",
              "      <td>0.80</td>\n",
              "      <td>y</td>\n",
              "      <td>1.80</td>\n",
              "      <td>y</td>\n",
              "      <td>99</td>\n",
              "      <td>y</td>\n",
              "      <td>1.01</td>\n",
              "      <td>y</td>\n",
              "      <td>98</td>\n",
              "      <td>n</td>\n",
              "      <td>NaN</td>\n",
              "    </tr>\n",
              "    <tr>\n",
              "      <th>3160</th>\n",
              "      <td>negative</td>\n",
              "      <td>77</td>\n",
              "      <td>M</td>\n",
              "      <td>f</td>\n",
              "      <td>f</td>\n",
              "      <td>f</td>\n",
              "      <td>f</td>\n",
              "      <td>f</td>\n",
              "      <td>f</td>\n",
              "      <td>f</td>\n",
              "      <td>f</td>\n",
              "      <td>f</td>\n",
              "      <td>f</td>\n",
              "      <td>f</td>\n",
              "      <td>y</td>\n",
              "      <td>1.20</td>\n",
              "      <td>y</td>\n",
              "      <td>0.60</td>\n",
              "      <td>y</td>\n",
              "      <td>71</td>\n",
              "      <td>y</td>\n",
              "      <td>0.68</td>\n",
              "      <td>y</td>\n",
              "      <td>104</td>\n",
              "      <td>n</td>\n",
              "      <td>NaN</td>\n",
              "    </tr>\n",
              "    <tr>\n",
              "      <th>3161</th>\n",
              "      <td>negative</td>\n",
              "      <td>74</td>\n",
              "      <td>F</td>\n",
              "      <td>f</td>\n",
              "      <td>f</td>\n",
              "      <td>f</td>\n",
              "      <td>f</td>\n",
              "      <td>f</td>\n",
              "      <td>f</td>\n",
              "      <td>f</td>\n",
              "      <td>f</td>\n",
              "      <td>f</td>\n",
              "      <td>f</td>\n",
              "      <td>f</td>\n",
              "      <td>y</td>\n",
              "      <td>1.30</td>\n",
              "      <td>y</td>\n",
              "      <td>0.10</td>\n",
              "      <td>y</td>\n",
              "      <td>65</td>\n",
              "      <td>y</td>\n",
              "      <td>0.48</td>\n",
              "      <td>y</td>\n",
              "      <td>137</td>\n",
              "      <td>n</td>\n",
              "      <td>NaN</td>\n",
              "    </tr>\n",
              "    <tr>\n",
              "      <th>3162</th>\n",
              "      <td>negative</td>\n",
              "      <td>56</td>\n",
              "      <td>F</td>\n",
              "      <td>t</td>\n",
              "      <td>f</td>\n",
              "      <td>f</td>\n",
              "      <td>f</td>\n",
              "      <td>f</td>\n",
              "      <td>f</td>\n",
              "      <td>f</td>\n",
              "      <td>f</td>\n",
              "      <td>f</td>\n",
              "      <td>f</td>\n",
              "      <td>f</td>\n",
              "      <td>y</td>\n",
              "      <td>0</td>\n",
              "      <td>y</td>\n",
              "      <td>1.80</td>\n",
              "      <td>y</td>\n",
              "      <td>139</td>\n",
              "      <td>y</td>\n",
              "      <td>0.97</td>\n",
              "      <td>y</td>\n",
              "      <td>143</td>\n",
              "      <td>n</td>\n",
              "      <td>NaN</td>\n",
              "    </tr>\n",
              "  </tbody>\n",
              "</table>\n",
              "<p>3163 rows × 26 columns</p>\n",
              "</div>"
            ],
            "text/plain": [
              "           status age sex on_thyroxine  ... FTI_measured  FTI TBG_measured  TBG\n",
              "0     hypothyroid  72   M            f  ...            y   10            n  NaN\n",
              "1     hypothyroid  15   F            t  ...            y   17            n  NaN\n",
              "2     hypothyroid  24   M            f  ...            y    0            n  NaN\n",
              "3     hypothyroid  24   F            f  ...            y    6            n  NaN\n",
              "4     hypothyroid  77   M            f  ...            y   44            n  NaN\n",
              "...           ...  ..  ..          ...  ...          ...  ...          ...  ...\n",
              "3158     negative  58   F            f  ...            y   95            n  NaN\n",
              "3159     negative  29   F            f  ...            y   98            n  NaN\n",
              "3160     negative  77   M            f  ...            y  104            n  NaN\n",
              "3161     negative  74   F            f  ...            y  137            n  NaN\n",
              "3162     negative  56   F            t  ...            y  143            n  NaN\n",
              "\n",
              "[3163 rows x 26 columns]"
            ]
          },
          "metadata": {
            "tags": []
          },
          "execution_count": 8
        }
      ]
    },
    {
      "cell_type": "code",
      "metadata": {
        "id": "csBxXYITxSPB",
        "colab_type": "code",
        "colab": {
          "base_uri": "https://localhost:8080/",
          "height": 476
        },
        "outputId": "ff80e4cc-6553-401e-b419-7e1626897db8"
      },
      "source": [
        "#Check the missing values\n",
        "df.isna().sum()"
      ],
      "execution_count": null,
      "outputs": [
        {
          "output_type": "execute_result",
          "data": {
            "text/plain": [
              "status                          0\n",
              "age                           446\n",
              "sex                            73\n",
              "on_thyroxine                    0\n",
              "query_on_thyroxine              0\n",
              "on_antithyroid_medication       0\n",
              "thyroid_surgery                 0\n",
              "query_hypothyroid               0\n",
              "query_hyperthyroid              0\n",
              "pregnant                        0\n",
              "sick                            0\n",
              "tumor                           0\n",
              "lithium                         0\n",
              "goitre                          0\n",
              "TSH_measured                    0\n",
              "TSH                           468\n",
              "T3_measured                     0\n",
              "T3                            695\n",
              "TT4_measured                    0\n",
              "TT4                           249\n",
              "T4U_measured                    0\n",
              "T4U                           248\n",
              "FTI_measured                    0\n",
              "FTI                           247\n",
              "TBG_measured                    0\n",
              "TBG                          2903\n",
              "dtype: int64"
            ]
          },
          "metadata": {
            "tags": []
          },
          "execution_count": 4
        }
      ]
    },
    {
      "cell_type": "markdown",
      "metadata": {
        "colab_type": "text",
        "id": "9IVmicbuuihH"
      },
      "source": [
        "We observe that 8 out of 26 columns have missing values.TBG column has the higest number of missing values; 2,903,followed by T3 with 695."
      ]
    },
    {
      "cell_type": "code",
      "metadata": {
        "id": "-5RL4SbIGn9F",
        "colab_type": "code",
        "colab": {
          "base_uri": "https://localhost:8080/",
          "height": 459
        },
        "outputId": "bce13fa8-93d2-48d5-dae5-1ff8017ca0cf"
      },
      "source": [
        "import seaborn as sns\n",
        "#Visualizing null values \n",
        "sns.heatmap(df.isnull(), yticklabels=False, cbar=False, cmap='viridis')"
      ],
      "execution_count": null,
      "outputs": [
        {
          "output_type": "stream",
          "text": [
            "/usr/local/lib/python3.6/dist-packages/statsmodels/tools/_testing.py:19: FutureWarning: pandas.util.testing is deprecated. Use the functions in the public API at pandas.testing instead.\n",
            "  import pandas.util.testing as tm\n"
          ],
          "name": "stderr"
        },
        {
          "output_type": "execute_result",
          "data": {
            "text/plain": [
              "<matplotlib.axes._subplots.AxesSubplot at 0x7fb74a51ce80>"
            ]
          },
          "metadata": {
            "tags": []
          },
          "execution_count": 7
        },
        {
          "output_type": "display_data",
          "data": {
            "image/png": "[encoded data removed]",
            "text/plain": [
              "<Figure size 432x288 with 1 Axes>"
            ]
          },
          "metadata": {
            "tags": [],
            "needs_background": "light"
          }
        }
      ]
    },
    {
      "cell_type": "markdown",
      "metadata": {
        "id": "qT-ViPggG6Oc",
        "colab_type": "text"
      },
      "source": [
        "We obdserve that TBG column has the highest number of missing values. As muchit is easier to drop it, we will fill the null values with the mean as this(TBG) is the blood test that measures the level of a protein that moves thyroid hormone throughout your body. This data will add value to to our study."
      ]
    },
    {
      "cell_type": "code",
      "metadata": {
        "colab_type": "code",
        "id": "kCrZ-vaZuihK",
        "colab": {
          "base_uri": "https://localhost:8080/",
          "height": 476
        },
        "outputId": "a42b77e7-ad79-4f44-e95e-f8028f1873d6"
      },
      "source": [
        "#Converting the Age, TSH, T3, TT4, T4U, FTI, TBG columns in our dataset whose values \n",
        "#are float/numeric to the right data type so that we can fill the null values\n",
        "\n",
        "df.age=pd.to_numeric(df.age, errors='coerce')\n",
        "df.TSH=pd.to_numeric(df.TSH, errors='coerce')\n",
        "df.T3=pd.to_numeric(df.T3, errors='coerce')\n",
        "df.TT4=pd.to_numeric(df.TT4, errors='coerce')\n",
        "df.T4U=pd.to_numeric(df.T4U, errors='coerce')\n",
        "df.FTI=pd.to_numeric(df.FTI, errors='coerce')\n",
        "df.TBG=pd.to_numeric(df.TBG, errors='coerce')\n",
        "df.dtypes"
      ],
      "execution_count": null,
      "outputs": [
        {
          "output_type": "execute_result",
          "data": {
            "text/plain": [
              "status                        object\n",
              "age                          float64\n",
              "sex                           object\n",
              "on_thyroxine                  object\n",
              "query_on_thyroxine            object\n",
              "on_antithyroid_medication     object\n",
              "thyroid_surgery               object\n",
              "query_hypothyroid             object\n",
              "query_hyperthyroid            object\n",
              "pregnant                      object\n",
              "sick                          object\n",
              "tumor                         object\n",
              "lithium                       object\n",
              "goitre                        object\n",
              "TSH_measured                  object\n",
              "TSH                          float64\n",
              "T3_measured                   object\n",
              "T3                           float64\n",
              "TT4_measured                  object\n",
              "TT4                          float64\n",
              "T4U_measured                  object\n",
              "T4U                          float64\n",
              "FTI_measured                  object\n",
              "FTI                          float64\n",
              "TBG_measured                  object\n",
              "TBG                          float64\n",
              "dtype: object"
            ]
          },
          "metadata": {
            "tags": []
          },
          "execution_count": 11
        }
      ]
    },
    {
      "cell_type": "code",
      "metadata": {
        "id": "laDK7zntPeca",
        "colab_type": "code",
        "colab": {
          "base_uri": "https://localhost:8080/",
          "height": 476
        },
        "outputId": "2074239f-04e5-4d53-a31d-ef3521d3214d"
      },
      "source": [
        "#Changing the data types to the right format\n",
        "#Changing the TSH_measured, T3_measured, TT4_measured, T4U_measured,FTI_measured, TBG_measured,Sex,\n",
        "#status columns from object to category datatype\n",
        "\n",
        "df[\"TBG_measured\"]= df[\"TBG_measured\"].astype('category')\n",
        "\n",
        "df[\"sex\"]= df[\"sex\"].astype('category')\n",
        "\n",
        "df[\"T3_measured\"]= df[\"T3_measured\"].astype('category')\n",
        "\n",
        "df[\"TT4_measured\"]= df[\"TT4_measured\"].astype('category')\n",
        "\n",
        "df[\"T4U_measured\"]= df[\"T4U_measured\"].astype('category')\n",
        "\n",
        "df[\"FTI_measured\"]= df[\"FTI_measured\"].astype('category')\n",
        "\n",
        "df[\"TBG_measured\"]= df[\"TBG_measured\"].astype('category')\n",
        "\n",
        "df[\"status\"]= df[\"status\"].astype('category')\n",
        "\n",
        "df.dtypes "
      ],
      "execution_count": null,
      "outputs": [
        {
          "output_type": "execute_result",
          "data": {
            "text/plain": [
              "status                       category\n",
              "age                           float64\n",
              "sex                          category\n",
              "on_thyroxine                   object\n",
              "query_on_thyroxine             object\n",
              "on_antithyroid_medication      object\n",
              "thyroid_surgery                object\n",
              "query_hypothyroid              object\n",
              "query_hyperthyroid             object\n",
              "pregnant                       object\n",
              "sick                           object\n",
              "tumor                          object\n",
              "lithium                        object\n",
              "goitre                         object\n",
              "TSH_measured                   object\n",
              "TSH                           float64\n",
              "T3_measured                  category\n",
              "T3                            float64\n",
              "TT4_measured                 category\n",
              "TT4                           float64\n",
              "T4U_measured                 category\n",
              "T4U                           float64\n",
              "FTI_measured                 category\n",
              "FTI                           float64\n",
              "TBG_measured                 category\n",
              "TBG                           float64\n",
              "dtype: object"
            ]
          },
          "metadata": {
            "tags": []
          },
          "execution_count": 12
        }
      ]
    },
    {
      "cell_type": "code",
      "metadata": {
        "id": "jHqYoUynjkjd",
        "colab_type": "code",
        "colab": {
          "base_uri": "https://localhost:8080/",
          "height": 162
        },
        "outputId": "751f61da-4735-4973-ee79-8a8915082d15"
      },
      "source": [
        "#Changing on_thyroxine, query_on_thyroxine, on_antithyroid_medicationthyroid_surgery, query_hypothyroid\n",
        "#query_hyperthyroid, pregnant, sick, tumor, lithium, goitre columns with 't' for True and 'f' for False. \n",
        "#This is to enable us convert the data type from object to Boolean\n",
        "\n",
        "#changing on_thyroxine column\n",
        "df['on_thyroxine'] = df['on_thyroxine'].replace('t', True)\n",
        "df['on_thyroxine'] = df['on_thyroxine'].replace('f', False)\n",
        "\n",
        "#changing on_thyroxine column\n",
        "df['query_on_thyroxine'] = df['query_on_thyroxine'].replace('t', True)\n",
        "df['query_on_thyroxine'] = df['query_on_thyroxine'].replace('f', False)\n",
        "\n",
        "#changing on_antithyroid_medication column\n",
        "df['on_antithyroid_medication'] = df['on_antithyroid_medication'].replace('t', True)\n",
        "df['on_antithyroid_medication'] = df['on_antithyroid_medication'].replace('f', False)\n",
        "\n",
        "#changing thyroid_surgery column\n",
        "df['thyroid_surgery'] = df['thyroid_surgery'].replace('t', True)\n",
        "df['thyroid_surgery'] = df['thyroid_surgery'].replace('f', False)\n",
        "\n",
        "#changing query_hypothyroid column\n",
        "df['query_hypothyroid'] = df['query_hypothyroid'].replace('t', True)\n",
        "df['query_hypothyroid'] = df['query_hypothyroid'].replace('f', False)\n",
        "\n",
        "#changing query_hyperthyroid column\n",
        "df['query_hyperthyroid'] = df['query_hyperthyroid'].replace('t', True)\n",
        "df['query_hyperthyroid'] = df['query_hyperthyroid'].replace('f', False)\n",
        "\n",
        "#changing pregnant column\n",
        "df['pregnant'] = df['pregnant'].replace('t', True)\n",
        "df['pregnant'] = df['pregnant'].replace('f', False)\n",
        "\n",
        "#changing sick column\n",
        "df['sick'] = df['sick'].replace('t', True)\n",
        "df['sick'] = df['sick'].replace('f', False)\n",
        "\n",
        "#changing tumor column\n",
        "df['tumor'] = df['tumor'].replace('t', True)\n",
        "df['tumor'] = df['tumor'].replace('f', False)\n",
        "\n",
        "#changing lithium column\n",
        "df['lithium'] = df['lithium'].replace('t', True)\n",
        "df['lithium'] = df['lithium'].replace('f', False)\n",
        "\n",
        "#changing goitre column\n",
        "df['goitre'] = df['goitre'].replace('t', True)\n",
        "df['goitre'] = df['goitre'].replace('f', False)\n",
        "\n",
        "#Checking if this has been implemented\n",
        "df.head(3)\n"
      ],
      "execution_count": null,
      "outputs": [
        {
          "output_type": "execute_result",
          "data": {
            "text/html": [
              "<div>\n",
              "<style scoped>\n",
              "    .dataframe tbody tr th:only-of-type {\n",
              "        vertical-align: middle;\n",
              "    }\n",
              "\n",
              "    .dataframe tbody tr th {\n",
              "        vertical-align: top;\n",
              "    }\n",
              "\n",
              "    .dataframe thead th {\n",
              "        text-align: right;\n",
              "    }\n",
              "</style>\n",
              "<table border=\"1\" class=\"dataframe\">\n",
              "  <thead>\n",
              "    <tr style=\"text-align: right;\">\n",
              "      <th></th>\n",
              "      <th>status</th>\n",
              "      <th>age</th>\n",
              "      <th>sex</th>\n",
              "      <th>on_thyroxine</th>\n",
              "      <th>query_on_thyroxine</th>\n",
              "      <th>on_antithyroid_medication</th>\n",
              "      <th>thyroid_surgery</th>\n",
              "      <th>query_hypothyroid</th>\n",
              "      <th>query_hyperthyroid</th>\n",
              "      <th>pregnant</th>\n",
              "      <th>sick</th>\n",
              "      <th>tumor</th>\n",
              "      <th>lithium</th>\n",
              "      <th>goitre</th>\n",
              "      <th>TSH_measured</th>\n",
              "      <th>TSH</th>\n",
              "      <th>T3_measured</th>\n",
              "      <th>T3</th>\n",
              "      <th>TT4_measured</th>\n",
              "      <th>TT4</th>\n",
              "      <th>T4U_measured</th>\n",
              "      <th>T4U</th>\n",
              "      <th>FTI_measured</th>\n",
              "      <th>FTI</th>\n",
              "      <th>TBG_measured</th>\n",
              "      <th>TBG</th>\n",
              "    </tr>\n",
              "  </thead>\n",
              "  <tbody>\n",
              "    <tr>\n",
              "      <th>0</th>\n",
              "      <td>hypothyroid</td>\n",
              "      <td>72.0</td>\n",
              "      <td>M</td>\n",
              "      <td>False</td>\n",
              "      <td>False</td>\n",
              "      <td>False</td>\n",
              "      <td>False</td>\n",
              "      <td>False</td>\n",
              "      <td>False</td>\n",
              "      <td>False</td>\n",
              "      <td>False</td>\n",
              "      <td>False</td>\n",
              "      <td>False</td>\n",
              "      <td>False</td>\n",
              "      <td>y</td>\n",
              "      <td>30.0</td>\n",
              "      <td>y</td>\n",
              "      <td>0.6</td>\n",
              "      <td>y</td>\n",
              "      <td>15.0</td>\n",
              "      <td>y</td>\n",
              "      <td>1.48</td>\n",
              "      <td>y</td>\n",
              "      <td>10.0</td>\n",
              "      <td>n</td>\n",
              "      <td>NaN</td>\n",
              "    </tr>\n",
              "    <tr>\n",
              "      <th>1</th>\n",
              "      <td>hypothyroid</td>\n",
              "      <td>15.0</td>\n",
              "      <td>F</td>\n",
              "      <td>True</td>\n",
              "      <td>False</td>\n",
              "      <td>False</td>\n",
              "      <td>False</td>\n",
              "      <td>False</td>\n",
              "      <td>False</td>\n",
              "      <td>False</td>\n",
              "      <td>False</td>\n",
              "      <td>False</td>\n",
              "      <td>False</td>\n",
              "      <td>False</td>\n",
              "      <td>y</td>\n",
              "      <td>145.0</td>\n",
              "      <td>y</td>\n",
              "      <td>1.7</td>\n",
              "      <td>y</td>\n",
              "      <td>19.0</td>\n",
              "      <td>y</td>\n",
              "      <td>1.13</td>\n",
              "      <td>y</td>\n",
              "      <td>17.0</td>\n",
              "      <td>n</td>\n",
              "      <td>NaN</td>\n",
              "    </tr>\n",
              "    <tr>\n",
              "      <th>2</th>\n",
              "      <td>hypothyroid</td>\n",
              "      <td>24.0</td>\n",
              "      <td>M</td>\n",
              "      <td>False</td>\n",
              "      <td>False</td>\n",
              "      <td>False</td>\n",
              "      <td>False</td>\n",
              "      <td>False</td>\n",
              "      <td>False</td>\n",
              "      <td>False</td>\n",
              "      <td>False</td>\n",
              "      <td>False</td>\n",
              "      <td>False</td>\n",
              "      <td>False</td>\n",
              "      <td>y</td>\n",
              "      <td>0.0</td>\n",
              "      <td>y</td>\n",
              "      <td>0.2</td>\n",
              "      <td>y</td>\n",
              "      <td>4.0</td>\n",
              "      <td>y</td>\n",
              "      <td>1.00</td>\n",
              "      <td>y</td>\n",
              "      <td>0.0</td>\n",
              "      <td>n</td>\n",
              "      <td>NaN</td>\n",
              "    </tr>\n",
              "  </tbody>\n",
              "</table>\n",
              "</div>"
            ],
            "text/plain": [
              "        status   age sex  on_thyroxine  ...  FTI_measured   FTI  TBG_measured  TBG\n",
              "0  hypothyroid  72.0   M         False  ...             y  10.0             n  NaN\n",
              "1  hypothyroid  15.0   F          True  ...             y  17.0             n  NaN\n",
              "2  hypothyroid  24.0   M         False  ...             y   0.0             n  NaN\n",
              "\n",
              "[3 rows x 26 columns]"
            ]
          },
          "metadata": {
            "tags": []
          },
          "execution_count": 13
        }
      ]
    },
    {
      "cell_type": "code",
      "metadata": {
        "id": "JU45YXmzqqcS",
        "colab_type": "code",
        "colab": {
          "base_uri": "https://localhost:8080/",
          "height": 476
        },
        "outputId": "fe62e64e-060b-4ca4-f3e9-84cded8b922f"
      },
      "source": [
        "#Checking the data types to confirm if the changes ahve been effected\n",
        "df.dtypes"
      ],
      "execution_count": null,
      "outputs": [
        {
          "output_type": "execute_result",
          "data": {
            "text/plain": [
              "status                       category\n",
              "age                           float64\n",
              "sex                          category\n",
              "on_thyroxine                     bool\n",
              "query_on_thyroxine               bool\n",
              "on_antithyroid_medication        bool\n",
              "thyroid_surgery                  bool\n",
              "query_hypothyroid                bool\n",
              "query_hyperthyroid               bool\n",
              "pregnant                         bool\n",
              "sick                             bool\n",
              "tumor                            bool\n",
              "lithium                          bool\n",
              "goitre                           bool\n",
              "TSH_measured                   object\n",
              "TSH                           float64\n",
              "T3_measured                  category\n",
              "T3                            float64\n",
              "TT4_measured                 category\n",
              "TT4                           float64\n",
              "T4U_measured                 category\n",
              "T4U                           float64\n",
              "FTI_measured                 category\n",
              "FTI                           float64\n",
              "TBG_measured                 category\n",
              "TBG                           float64\n",
              "dtype: object"
            ]
          },
          "metadata": {
            "tags": []
          },
          "execution_count": 14
        }
      ]
    },
    {
      "cell_type": "markdown",
      "metadata": {
        "id": "7S_h0ZJz7YSj",
        "colab_type": "text"
      },
      "source": [
        "**Dealing with missing values: **\n",
        "\n",
        "**Dropping them**\n",
        "\n",
        "This is the fastest and easiest step to handle missing values. However this method reduces the quality of our model as it reduces sample size because it works by deleting all other observations where any of the variable is missing. \n",
        "\n",
        "**Filling them with test statistics**\n",
        "This is where the missing values are replaced with a test statistic like mean, median or mode of the particular feature the missing value belongs to. One can also specify a forward-fill or back-fill to propagate the next values backward or previous value forward.\n",
        "\n",
        "We will replace the missing values of the following columns whose values are float/numeric with mean of those specific columns: Age,TSH,T3,TT4,T4U,FTI and TBG\n",
        "\n",
        "We will replace the missing values of sex with mode-the number that appears more frequently in the dataset, since this column is categorical(male or female)"
      ]
    },
    {
      "cell_type": "code",
      "metadata": {
        "id": "Hopupaq_tp9g",
        "colab_type": "code",
        "colab": {
          "base_uri": "https://localhost:8080/",
          "height": 224
        },
        "outputId": "a7e987f8-5111-49a6-c4f8-c63190535865"
      },
      "source": [
        "#Now that our columns have the right datatypes we can fill null values\n",
        "# We will replace the missing values of the following columns whose values are float/numeric with mean of those specific columns: Age,TSH,T3,TT4,T4U,FTI and TBG\n",
        "\n",
        "# We will replace the missing values of sex with mode-the number that appears more frequently in the dataset, since this column is categorical(male or female)\n",
        "\n",
        "mean_value=df['age'].mean()\n",
        "df['age']=df['age'].fillna(mean_value)\n",
        "\n",
        "\n",
        "mean_value=df['TSH'].mean()\n",
        "df['TSH']=df['TSH'].fillna(mean_value)\n",
        "\n",
        "\n",
        "mean_value=df['T3'].mean()\n",
        "df['T3']=df['T3'].fillna(mean_value)\n",
        "\n",
        "mean_value=df['TT4'].mean()\n",
        "df['TT4']=df['TT4'].fillna(mean_value)\n",
        "\n",
        "mean_value=df['T4U'].mean()\n",
        "df['T4U']=df['T4U'].fillna(mean_value)\n",
        "\n",
        "mean_value=df['FTI'].mean()\n",
        "df['FTI']=df['FTI'].fillna(mean_value)\n",
        "\n",
        "mean_value=df['TBG'].mean()\n",
        "df['TBG']=df['TBG'].fillna(mean_value)\n",
        "\n",
        "# We will replace null values for sex using mode\n",
        "\n",
        "mode_value=df['sex'].mode()\n",
        "df['sex']=df['sex'].fillna(mode_value)\n",
        "\n",
        "df.head()"
      ],
      "execution_count": null,
      "outputs": [
        {
          "output_type": "execute_result",
          "data": {
            "text/html": [
              "<div>\n",
              "<style scoped>\n",
              "    .dataframe tbody tr th:only-of-type {\n",
              "        vertical-align: middle;\n",
              "    }\n",
              "\n",
              "    .dataframe tbody tr th {\n",
              "        vertical-align: top;\n",
              "    }\n",
              "\n",
              "    .dataframe thead th {\n",
              "        text-align: right;\n",
              "    }\n",
              "</style>\n",
              "<table border=\"1\" class=\"dataframe\">\n",
              "  <thead>\n",
              "    <tr style=\"text-align: right;\">\n",
              "      <th></th>\n",
              "      <th>status</th>\n",
              "      <th>age</th>\n",
              "      <th>sex</th>\n",
              "      <th>on_thyroxine</th>\n",
              "      <th>query_on_thyroxine</th>\n",
              "      <th>on_antithyroid_medication</th>\n",
              "      <th>thyroid_surgery</th>\n",
              "      <th>query_hypothyroid</th>\n",
              "      <th>query_hyperthyroid</th>\n",
              "      <th>pregnant</th>\n",
              "      <th>sick</th>\n",
              "      <th>tumor</th>\n",
              "      <th>lithium</th>\n",
              "      <th>goitre</th>\n",
              "      <th>TSH_measured</th>\n",
              "      <th>TSH</th>\n",
              "      <th>T3_measured</th>\n",
              "      <th>T3</th>\n",
              "      <th>TT4_measured</th>\n",
              "      <th>TT4</th>\n",
              "      <th>T4U_measured</th>\n",
              "      <th>T4U</th>\n",
              "      <th>FTI_measured</th>\n",
              "      <th>FTI</th>\n",
              "      <th>TBG_measured</th>\n",
              "      <th>TBG</th>\n",
              "    </tr>\n",
              "  </thead>\n",
              "  <tbody>\n",
              "    <tr>\n",
              "      <th>0</th>\n",
              "      <td>hypothyroid</td>\n",
              "      <td>72.0</td>\n",
              "      <td>M</td>\n",
              "      <td>False</td>\n",
              "      <td>False</td>\n",
              "      <td>False</td>\n",
              "      <td>False</td>\n",
              "      <td>False</td>\n",
              "      <td>False</td>\n",
              "      <td>False</td>\n",
              "      <td>False</td>\n",
              "      <td>False</td>\n",
              "      <td>False</td>\n",
              "      <td>False</td>\n",
              "      <td>y</td>\n",
              "      <td>30.0</td>\n",
              "      <td>y</td>\n",
              "      <td>0.6</td>\n",
              "      <td>y</td>\n",
              "      <td>15.0</td>\n",
              "      <td>y</td>\n",
              "      <td>1.48</td>\n",
              "      <td>y</td>\n",
              "      <td>10.0</td>\n",
              "      <td>n</td>\n",
              "      <td>31.283077</td>\n",
              "    </tr>\n",
              "    <tr>\n",
              "      <th>1</th>\n",
              "      <td>hypothyroid</td>\n",
              "      <td>15.0</td>\n",
              "      <td>F</td>\n",
              "      <td>True</td>\n",
              "      <td>False</td>\n",
              "      <td>False</td>\n",
              "      <td>False</td>\n",
              "      <td>False</td>\n",
              "      <td>False</td>\n",
              "      <td>False</td>\n",
              "      <td>False</td>\n",
              "      <td>False</td>\n",
              "      <td>False</td>\n",
              "      <td>False</td>\n",
              "      <td>y</td>\n",
              "      <td>145.0</td>\n",
              "      <td>y</td>\n",
              "      <td>1.7</td>\n",
              "      <td>y</td>\n",
              "      <td>19.0</td>\n",
              "      <td>y</td>\n",
              "      <td>1.13</td>\n",
              "      <td>y</td>\n",
              "      <td>17.0</td>\n",
              "      <td>n</td>\n",
              "      <td>31.283077</td>\n",
              "    </tr>\n",
              "    <tr>\n",
              "      <th>2</th>\n",
              "      <td>hypothyroid</td>\n",
              "      <td>24.0</td>\n",
              "      <td>M</td>\n",
              "      <td>False</td>\n",
              "      <td>False</td>\n",
              "      <td>False</td>\n",
              "      <td>False</td>\n",
              "      <td>False</td>\n",
              "      <td>False</td>\n",
              "      <td>False</td>\n",
              "      <td>False</td>\n",
              "      <td>False</td>\n",
              "      <td>False</td>\n",
              "      <td>False</td>\n",
              "      <td>y</td>\n",
              "      <td>0.0</td>\n",
              "      <td>y</td>\n",
              "      <td>0.2</td>\n",
              "      <td>y</td>\n",
              "      <td>4.0</td>\n",
              "      <td>y</td>\n",
              "      <td>1.00</td>\n",
              "      <td>y</td>\n",
              "      <td>0.0</td>\n",
              "      <td>n</td>\n",
              "      <td>31.283077</td>\n",
              "    </tr>\n",
              "    <tr>\n",
              "      <th>3</th>\n",
              "      <td>hypothyroid</td>\n",
              "      <td>24.0</td>\n",
              "      <td>F</td>\n",
              "      <td>False</td>\n",
              "      <td>False</td>\n",
              "      <td>False</td>\n",
              "      <td>False</td>\n",
              "      <td>False</td>\n",
              "      <td>False</td>\n",
              "      <td>False</td>\n",
              "      <td>False</td>\n",
              "      <td>False</td>\n",
              "      <td>False</td>\n",
              "      <td>False</td>\n",
              "      <td>y</td>\n",
              "      <td>430.0</td>\n",
              "      <td>y</td>\n",
              "      <td>0.4</td>\n",
              "      <td>y</td>\n",
              "      <td>6.0</td>\n",
              "      <td>y</td>\n",
              "      <td>1.04</td>\n",
              "      <td>y</td>\n",
              "      <td>6.0</td>\n",
              "      <td>n</td>\n",
              "      <td>31.283077</td>\n",
              "    </tr>\n",
              "    <tr>\n",
              "      <th>4</th>\n",
              "      <td>hypothyroid</td>\n",
              "      <td>77.0</td>\n",
              "      <td>M</td>\n",
              "      <td>False</td>\n",
              "      <td>False</td>\n",
              "      <td>False</td>\n",
              "      <td>False</td>\n",
              "      <td>False</td>\n",
              "      <td>False</td>\n",
              "      <td>False</td>\n",
              "      <td>False</td>\n",
              "      <td>False</td>\n",
              "      <td>False</td>\n",
              "      <td>False</td>\n",
              "      <td>y</td>\n",
              "      <td>7.3</td>\n",
              "      <td>y</td>\n",
              "      <td>1.2</td>\n",
              "      <td>y</td>\n",
              "      <td>57.0</td>\n",
              "      <td>y</td>\n",
              "      <td>1.28</td>\n",
              "      <td>y</td>\n",
              "      <td>44.0</td>\n",
              "      <td>n</td>\n",
              "      <td>31.283077</td>\n",
              "    </tr>\n",
              "  </tbody>\n",
              "</table>\n",
              "</div>"
            ],
            "text/plain": [
              "        status   age sex  ...   FTI  TBG_measured        TBG\n",
              "0  hypothyroid  72.0   M  ...  10.0             n  31.283077\n",
              "1  hypothyroid  15.0   F  ...  17.0             n  31.283077\n",
              "2  hypothyroid  24.0   M  ...   0.0             n  31.283077\n",
              "3  hypothyroid  24.0   F  ...   6.0             n  31.283077\n",
              "4  hypothyroid  77.0   M  ...  44.0             n  31.283077\n",
              "\n",
              "[5 rows x 26 columns]"
            ]
          },
          "metadata": {
            "tags": []
          },
          "execution_count": 15
        }
      ]
    },
    {
      "cell_type": "markdown",
      "metadata": {
        "id": "j8BEICcpC15P",
        "colab_type": "text"
      },
      "source": [
        "\n",
        "This has replaced all NaN values with the mean of the non null values and mode for the sex column\n"
      ]
    },
    {
      "cell_type": "markdown",
      "metadata": {
        "id": "IgIlu7SWsoP1",
        "colab_type": "text"
      },
      "source": [
        "* Checking and dealing with outliers"
      ]
    },
    {
      "cell_type": "code",
      "metadata": {
        "id": "NT9pPxQOpVi1",
        "colab_type": "code",
        "colab": {
          "base_uri": "https://localhost:8080/",
          "height": 296
        },
        "outputId": "5b47839d-6f12-4c96-febe-659a86ac6054"
      },
      "source": [
        "# #Visualizing numerical variables to check for outliers  \n",
        "sns.boxplot(x='TSH',y ='status',data=df,palette ='winter')"
      ],
      "execution_count": null,
      "outputs": [
        {
          "output_type": "execute_result",
          "data": {
            "text/plain": [
              "<matplotlib.axes._subplots.AxesSubplot at 0x7fd38ed07898>"
            ]
          },
          "metadata": {
            "tags": []
          },
          "execution_count": 149
        },
        {
          "output_type": "display_data",
          "data": {
            "image/png": "[encoded data removed]",
            "text/plain": [
              "<Figure size 432x288 with 1 Axes>"
            ]
          },
          "metadata": {
            "tags": [],
            "needs_background": "light"
          }
        }
      ]
    },
    {
      "cell_type": "markdown",
      "metadata": {
        "id": "aYUZ893DsxPM",
        "colab_type": "text"
      },
      "source": [
        "TSH has outliers in individuals with eaither of the status"
      ]
    },
    {
      "cell_type": "code",
      "metadata": {
        "id": "nxhi9zePpkpD",
        "colab_type": "code",
        "colab": {
          "base_uri": "https://localhost:8080/",
          "height": 296
        },
        "outputId": "db4f903c-5e5f-4b54-ede4-443ddf491a47"
      },
      "source": [
        "# #Visualizing numerical variables to check for outliers  \n",
        "sns.boxplot(x='age',y ='status',data=df,palette ='winter')"
      ],
      "execution_count": null,
      "outputs": [
        {
          "output_type": "execute_result",
          "data": {
            "text/plain": [
              "<matplotlib.axes._subplots.AxesSubplot at 0x7fd38ed07b38>"
            ]
          },
          "metadata": {
            "tags": []
          },
          "execution_count": 150
        },
        {
          "output_type": "display_data",
          "data": {
            "image/png": "[encoded data removed]",
            "text/plain": [
              "<Figure size 432x288 with 1 Axes>"
            ]
          },
          "metadata": {
            "tags": [],
            "needs_background": "light"
          }
        }
      ]
    },
    {
      "cell_type": "markdown",
      "metadata": {
        "id": "S8pwii3lqMEC",
        "colab_type": "text"
      },
      "source": [
        "Age has no outliers"
      ]
    },
    {
      "cell_type": "code",
      "metadata": {
        "id": "cUBeES-aqKfm",
        "colab_type": "code",
        "colab": {
          "base_uri": "https://localhost:8080/",
          "height": 296
        },
        "outputId": "9716bc67-6116-43e6-dc0a-2b74c42dec83"
      },
      "source": [
        " #Visualizing numerical variables to check for outliers  \n",
        "sns.boxplot(x='T3',y ='status',data=df,palette ='winter')"
      ],
      "execution_count": null,
      "outputs": [
        {
          "output_type": "execute_result",
          "data": {
            "text/plain": [
              "<matplotlib.axes._subplots.AxesSubplot at 0x7fd38f55fe48>"
            ]
          },
          "metadata": {
            "tags": []
          },
          "execution_count": 154
        },
        {
          "output_type": "display_data",
          "data": {
            "image/png": "[encoded data removed]",
            "text/plain": [
              "<Figure size 432x288 with 1 Axes>"
            ]
          },
          "metadata": {
            "tags": [],
            "needs_background": "light"
          }
        }
      ]
    },
    {
      "cell_type": "markdown",
      "metadata": {
        "id": "u2FfkngNqj9S",
        "colab_type": "text"
      },
      "source": [
        "Its evident that there are many outliers in T3 especially when the hypothyroid status is negative"
      ]
    },
    {
      "cell_type": "code",
      "metadata": {
        "id": "ovdVlmvsplkT",
        "colab_type": "code",
        "colab": {
          "base_uri": "https://localhost:8080/",
          "height": 296
        },
        "outputId": "445cba26-dca4-475a-ea21-f6595388997c"
      },
      "source": [
        "# #Visualizing numerical variables to check for outliers  \n",
        "sns.boxplot(x='TT4',y ='status',data=df,palette ='winter')"
      ],
      "execution_count": null,
      "outputs": [
        {
          "output_type": "execute_result",
          "data": {
            "text/plain": [
              "<matplotlib.axes._subplots.AxesSubplot at 0x7fd38eda1b00>"
            ]
          },
          "metadata": {
            "tags": []
          },
          "execution_count": 153
        },
        {
          "output_type": "display_data",
          "data": {
            "image/png": "[encoded data removed]",
            "text/plain": [
              "<Figure size 432x288 with 1 Axes>"
            ]
          },
          "metadata": {
            "tags": [],
            "needs_background": "light"
          }
        }
      ]
    },
    {
      "cell_type": "markdown",
      "metadata": {
        "id": "zDSVkV3Qp4hz",
        "colab_type": "text"
      },
      "source": [
        "Its evident that there are many outliers in TT4 especially when the hypothyroid status is negative"
      ]
    },
    {
      "cell_type": "code",
      "metadata": {
        "id": "565Wv358qyI5",
        "colab_type": "code",
        "colab": {
          "base_uri": "https://localhost:8080/",
          "height": 296
        },
        "outputId": "81bfa8bb-3ed5-4a8a-de60-23a8d7d19c48"
      },
      "source": [
        "# #Visualizing numerical variables to check for outliers  \n",
        "sns.boxplot(x='T4U',y ='status',data=df,palette ='winter')"
      ],
      "execution_count": null,
      "outputs": [
        {
          "output_type": "execute_result",
          "data": {
            "text/plain": [
              "<matplotlib.axes._subplots.AxesSubplot at 0x7fd3911d2780>"
            ]
          },
          "metadata": {
            "tags": []
          },
          "execution_count": 155
        },
        {
          "output_type": "display_data",
          "data": {
            "image/png": "[encoded data removed]",
            "text/plain": [
              "<Figure size 432x288 with 1 Axes>"
            ]
          },
          "metadata": {
            "tags": [],
            "needs_background": "light"
          }
        }
      ]
    },
    {
      "cell_type": "markdown",
      "metadata": {
        "id": "-aj9ka1HrDvU",
        "colab_type": "text"
      },
      "source": [
        "Its evident that T4U has outliers"
      ]
    },
    {
      "cell_type": "code",
      "metadata": {
        "id": "UUQRLafRqzBj",
        "colab_type": "code",
        "colab": {
          "base_uri": "https://localhost:8080/",
          "height": 296
        },
        "outputId": "98f223dc-4d15-4827-eff8-3943bb651344"
      },
      "source": [
        "# #Visualizing numerical variables to check for outliers  \n",
        "sns.boxplot(x='FTI',y ='status',data=df,palette ='winter')"
      ],
      "execution_count": null,
      "outputs": [
        {
          "output_type": "execute_result",
          "data": {
            "text/plain": [
              "<matplotlib.axes._subplots.AxesSubplot at 0x7fd38f38cf60>"
            ]
          },
          "metadata": {
            "tags": []
          },
          "execution_count": 156
        },
        {
          "output_type": "display_data",
          "data": {
            "image/png": "[encoded data removed]",
            "text/plain": [
              "<Figure size 432x288 with 1 Axes>"
            ]
          },
          "metadata": {
            "tags": [],
            "needs_background": "light"
          }
        }
      ]
    },
    {
      "cell_type": "markdown",
      "metadata": {
        "id": "04-gPB4qrK01",
        "colab_type": "text"
      },
      "source": [
        "FTI has outliers, they are more conspicous when the status is negative"
      ]
    },
    {
      "cell_type": "code",
      "metadata": {
        "id": "KwqvoOv-qyvk",
        "colab_type": "code",
        "colab": {
          "base_uri": "https://localhost:8080/",
          "height": 296
        },
        "outputId": "ff71cbde-0930-47fb-b453-812154f9061c"
      },
      "source": [
        "# #Visualizing numerical variables to check for outliers  \n",
        "sns.boxplot(x='TBG',y ='status',data=df,palette ='winter')"
      ],
      "execution_count": null,
      "outputs": [
        {
          "output_type": "execute_result",
          "data": {
            "text/plain": [
              "<matplotlib.axes._subplots.AxesSubplot at 0x7fd38f627748>"
            ]
          },
          "metadata": {
            "tags": []
          },
          "execution_count": 157
        },
        {
          "output_type": "display_data",
          "data": {
            "image/png": "[encoded data removed]",
            "text/plain": [
              "<Figure size 432x288 with 1 Axes>"
            ]
          },
          "metadata": {
            "tags": [],
            "needs_background": "light"
          }
        }
      ]
    },
    {
      "cell_type": "markdown",
      "metadata": {
        "id": "bslWNHhUrYVV",
        "colab_type": "text"
      },
      "source": [
        "TBG has outliers, its the column that had most missing values, we filled the null values with the mean, this could explain the observation"
      ]
    },
    {
      "cell_type": "markdown",
      "metadata": {
        "id": "hMhYcMaMtKwE",
        "colab_type": "text"
      },
      "source": [
        "We opt not to remove the outliers as most of these are tests that are done and each has a threshold where if an individual have certain limits, then it predisposes you to hypothyroid. Where outliers would be more when the status is negative, this could be explained by the fact that levels of specific test for an individual who is negative would differ majorly with those who have the condition"
      ]
    },
    {
      "cell_type": "markdown",
      "metadata": {
        "id": "lmcuBcQhP2Ta",
        "colab_type": "text"
      },
      "source": [
        "# 5. Univariate and Bivariate analysis"
      ]
    },
    {
      "cell_type": "code",
      "metadata": {
        "id": "2M_EHwNlpdoi",
        "colab_type": "code",
        "colab": {
          "base_uri": "https://localhost:8080/",
          "height": 296
        },
        "outputId": "12894f37-1ba2-486b-ba85-d21646f4c594"
      },
      "source": [
        "# Plotting the count of those with or without thyroid\n",
        "#Plotting count plots\n",
        "sns.set_style('whitegrid')\n",
        "sns.countplot (x='status', data=df)\n"
      ],
      "execution_count": 14,
      "outputs": [
        {
          "output_type": "execute_result",
          "data": {
            "text/plain": [
              "<matplotlib.axes._subplots.AxesSubplot at 0x7f0e02bd8a90>"
            ]
          },
          "metadata": {
            "tags": []
          },
          "execution_count": 14
        },
        {
          "output_type": "display_data",
          "data": {
            "image/png": "[encoded data removed]",
            "text/plain": [
              "<Figure size 432x288 with 1 Axes>"
            ]
          },
          "metadata": {
            "tags": []
          }
        }
      ]
    },
    {
      "cell_type": "markdown",
      "metadata": {
        "id": "Kwv5H-6JD2zn",
        "colab_type": "text"
      },
      "source": [
        "It is evident that we have more individuals who are negative and very few with hypothyroid condition.The data is therefore imbalanced."
      ]
    },
    {
      "cell_type": "code",
      "metadata": {
        "id": "k5cj-lCmqLko",
        "colab_type": "code",
        "colab": {
          "base_uri": "https://localhost:8080/",
          "height": 332
        },
        "outputId": "48884a9c-c31b-4023-c3c2-ac35824a1f7b"
      },
      "source": [
        "# Plotting percentage of respondents based on their status\n",
        "\n",
        "(df['status'].value_counts()/len(df)).plot.bar()"
      ],
      "execution_count": null,
      "outputs": [
        {
          "output_type": "execute_result",
          "data": {
            "text/plain": [
              "<matplotlib.axes._subplots.AxesSubplot at 0x7f3e4bfa97f0>"
            ]
          },
          "metadata": {
            "tags": []
          },
          "execution_count": 19
        },
        {
          "output_type": "display_data",
          "data": {
            "image/png": "[encoded data removed]",
            "text/plain": [
              "<Figure size 432x288 with 1 Axes>"
            ]
          },
          "metadata": {
            "tags": [],
            "needs_background": "light"
          }
        }
      ]
    },
    {
      "cell_type": "markdown",
      "metadata": {
        "id": "lgYLUEeRDOJ4",
        "colab_type": "text"
      },
      "source": [
        "\n",
        "We observe that we have more than 80% who are negative, while a very small percentage have hypothyroid condition. This means we have imbalanced data, no equal representation for the 2 classes."
      ]
    },
    {
      "cell_type": "code",
      "metadata": {
        "id": "1KUH5lisH4RT",
        "colab_type": "code",
        "colab": {
          "base_uri": "https://localhost:8080/",
          "height": 296
        },
        "outputId": "97bfdf40-a13d-4207-8497-213c6f497236"
      },
      "source": [
        "#Count plot to assess gender column\n",
        "sns.set_style('whitegrid')\n",
        "sns.countplot (x='sex', data=df)"
      ],
      "execution_count": 12,
      "outputs": [
        {
          "output_type": "execute_result",
          "data": {
            "text/plain": [
              "<matplotlib.axes._subplots.AxesSubplot at 0x7f0e03380e48>"
            ]
          },
          "metadata": {
            "tags": []
          },
          "execution_count": 12
        },
        {
          "output_type": "display_data",
          "data": {
            "image/png": "[encoded data removed]",
            "text/plain": [
              "<Figure size 432x288 with 1 Axes>"
            ]
          },
          "metadata": {
            "tags": []
          }
        }
      ]
    },
    {
      "cell_type": "markdown",
      "metadata": {
        "id": "oiuxup9vIPJB",
        "colab_type": "text"
      },
      "source": [
        "We observe that Females are more than males and few entries with '?'. We will deal with the missing values"
      ]
    },
    {
      "cell_type": "code",
      "metadata": {
        "id": "ThDb9swaH4Cx",
        "colab_type": "code",
        "colab": {
          "base_uri": "https://localhost:8080/",
          "height": 297
        },
        "outputId": "06e3a32b-a036-479a-af6f-3ddc9960f8c8"
      },
      "source": [
        "#Checking individuals that have taken TSH test\n",
        "sns.set_style('whitegrid')\n",
        "sns.countplot (x='TSH_measured', data=df)"
      ],
      "execution_count": 15,
      "outputs": [
        {
          "output_type": "execute_result",
          "data": {
            "text/plain": [
              "<matplotlib.axes._subplots.AxesSubplot at 0x7f0e026a8080>"
            ]
          },
          "metadata": {
            "tags": []
          },
          "execution_count": 15
        },
        {
          "output_type": "display_data",
          "data": {
            "image/png": "[encoded data removed]",
            "text/plain": [
              "<Figure size 432x288 with 1 Axes>"
            ]
          },
          "metadata": {
            "tags": []
          }
        }
      ]
    },
    {
      "cell_type": "markdown",
      "metadata": {
        "id": "WDLZWKOuJmT9",
        "colab_type": "text"
      },
      "source": [
        "We note that there are more individuals who have taken this test."
      ]
    },
    {
      "cell_type": "code",
      "metadata": {
        "id": "u0yDxu0nqYNT",
        "colab_type": "code",
        "colab": {
          "base_uri": "https://localhost:8080/",
          "height": 34
        },
        "outputId": "d1d23d41-146a-46d2-b01d-e54db7bf3f60"
      },
      "source": [
        "#Calculating range between minimum and maximum age \n",
        "df_max = df[\"age\"].max()\n",
        "df_min = df[\"age\"].min()\n",
        "\n",
        "# Calculating the range\n",
        "df_max - df_min\n"
      ],
      "execution_count": null,
      "outputs": [
        {
          "output_type": "execute_result",
          "data": {
            "text/plain": [
              "97.0"
            ]
          },
          "metadata": {
            "tags": []
          },
          "execution_count": 21
        }
      ]
    },
    {
      "cell_type": "markdown",
      "metadata": {
        "id": "23DEAFrvEp40",
        "colab_type": "text"
      },
      "source": [
        "\n",
        "The range is 97, this is quite high"
      ]
    },
    {
      "cell_type": "code",
      "metadata": {
        "id": "eFDJIXGorBSh",
        "colab_type": "code",
        "colab": {
          "base_uri": "https://localhost:8080/",
          "height": 34
        },
        "outputId": "184f7478-5a32-4dc8-f2b7-45f1f7db5097"
      },
      "source": [
        "#Checking skewness\n",
        "df[\"age\"].skew() \n"
      ],
      "execution_count": null,
      "outputs": [
        {
          "output_type": "execute_result",
          "data": {
            "text/plain": [
              "-0.17527599132644203"
            ]
          },
          "metadata": {
            "tags": []
          },
          "execution_count": 22
        }
      ]
    },
    {
      "cell_type": "markdown",
      "metadata": {
        "id": "ZPboor5GEw7c",
        "colab_type": "text"
      },
      "source": [
        "Age is negatively skewed"
      ]
    },
    {
      "cell_type": "code",
      "metadata": {
        "id": "2-C5sKNcrBj2",
        "colab_type": "code",
        "colab": {
          "base_uri": "https://localhost:8080/",
          "height": 170
        },
        "outputId": "933f0015-6fe4-4020-c5ad-116a94718a61"
      },
      "source": [
        "#Checking summary statistics for respondent's age\n",
        "df[\"age\"].describe()"
      ],
      "execution_count": null,
      "outputs": [
        {
          "output_type": "execute_result",
          "data": {
            "text/plain": [
              "count    3163.000000\n",
              "mean       51.154214\n",
              "std        17.881969\n",
              "min         1.000000\n",
              "25%        38.000000\n",
              "50%        51.154214\n",
              "75%        64.000000\n",
              "max        98.000000\n",
              "Name: age, dtype: float64"
            ]
          },
          "metadata": {
            "tags": []
          },
          "execution_count": 23
        }
      ]
    },
    {
      "cell_type": "markdown",
      "metadata": {
        "id": "sqDCrwVlE0lE",
        "colab_type": "text"
      },
      "source": [
        "We have 51.1 as the mean age and a standard deviation of 17.8, indicating high variance."
      ]
    },
    {
      "cell_type": "code",
      "metadata": {
        "id": "SB_mFu4KP1GN",
        "colab_type": "code",
        "colab": {
          "base_uri": "https://localhost:8080/",
          "height": 296
        },
        "outputId": "580f948f-57e9-4343-a82c-eb1a388153a7"
      },
      "source": [
        "# Ditribution plot for age\n",
        "sns.distplot(df['age'], bins=10) "
      ],
      "execution_count": null,
      "outputs": [
        {
          "output_type": "execute_result",
          "data": {
            "text/plain": [
              "<matplotlib.axes._subplots.AxesSubplot at 0x7f3e4bd13780>"
            ]
          },
          "metadata": {
            "tags": []
          },
          "execution_count": 24
        },
        {
          "output_type": "display_data",
          "data": {
            "image/png": "[encoded data removed]",
            "text/plain": [
              "<Figure size 432x288 with 1 Axes>"
            ]
          },
          "metadata": {
            "tags": [],
            "needs_background": "light"
          }
        }
      ]
    },
    {
      "cell_type": "markdown",
      "metadata": {
        "id": "w45g94VxztUC",
        "colab_type": "text"
      },
      "source": [
        "We observe that distribution of age is negativley skewed, mena age being 51 years."
      ]
    },
    {
      "cell_type": "code",
      "metadata": {
        "id": "ovV7D9qEP08c",
        "colab_type": "code",
        "colab": {
          "base_uri": "https://localhost:8080/",
          "height": 296
        },
        "outputId": "3e60baea-89b2-4596-ec97-9be586809b2b"
      },
      "source": [
        "sns.boxplot(x='status', y='age', data=df, palette='hls')"
      ],
      "execution_count": null,
      "outputs": [
        {
          "output_type": "execute_result",
          "data": {
            "text/plain": [
              "<matplotlib.axes._subplots.AxesSubplot at 0x7f3e4bc3cef0>"
            ]
          },
          "metadata": {
            "tags": []
          },
          "execution_count": 25
        },
        {
          "output_type": "display_data",
          "data": {
            "image/png": "[encoded data removed]",
            "text/plain": [
              "<Figure size 432x288 with 1 Axes>"
            ]
          },
          "metadata": {
            "tags": [],
            "needs_background": "light"
          }
        }
      ]
    },
    {
      "cell_type": "markdown",
      "metadata": {
        "id": "5mP04hKObPTL",
        "colab_type": "text"
      },
      "source": [
        "We observe that individuals with hypothyroid are slightly older that those who are negative."
      ]
    },
    {
      "cell_type": "markdown",
      "metadata": {
        "id": "dRkBM0joFa_Y",
        "colab_type": "text"
      },
      "source": [
        "# 6. Multivariate analysis"
      ]
    },
    {
      "cell_type": "code",
      "metadata": {
        "id": "OL7jWjSvLQf_",
        "colab_type": "code",
        "colab": {
          "base_uri": "https://localhost:8080/",
          "height": 867
        },
        "outputId": "362b7937-a12e-42ff-f652-a8c674eb08de"
      },
      "source": [
        "\n",
        "# Correlation matrix to check relationship of different variables\n",
        "\n",
        "df_corr = df.corr()\n",
        "plt.figure(figsize=(12,15))\n",
        "\n",
        "# We then plot our heatmap visualistion\n",
        "import seaborn as sns\n",
        "sns.heatmap(df_corr, annot=True, linewidth=0.5, cmap='coolwarm');"
      ],
      "execution_count": null,
      "outputs": [
        {
          "output_type": "display_data",
          "data": {
            "image/png": "[encoded data removed]",
            "text/plain": [
              "<Figure size 864x1080 with 2 Axes>"
            ]
          },
          "metadata": {
            "tags": [],
            "needs_background": "light"
          }
        }
      ]
    },
    {
      "cell_type": "markdown",
      "metadata": {
        "id": "u5lKVlaLL2W7",
        "colab_type": "text"
      },
      "source": [
        "We observe that TBG has a strong correlation OF 0.96 and 0.95 respectively with T4U and T3"
      ]
    },
    {
      "cell_type": "markdown",
      "metadata": {
        "id": "mFGBnLtrY8OV",
        "colab_type": "text"
      },
      "source": [
        "Checking Multicollinearity\n",
        "\n",
        "This is to help us asssess if there is multicollinearity expressed among our independent variables."
      ]
    },
    {
      "cell_type": "code",
      "metadata": {
        "colab_type": "code",
        "id": "Lz9-9euoY3na",
        "colab": {
          "base_uri": "https://localhost:8080/",
          "height": 627
        },
        "outputId": "f87d0899-715e-4dba-e3e4-a22e5fdb60b8"
      },
      "source": [
        "# get the correlation of our variables\n",
        "corr = df.corr()\n",
        "\n",
        "pd.DataFrame(np.linalg.inv(df.corr().values), index = corr.index, columns=corr.columns)"
      ],
      "execution_count": null,
      "outputs": [
        {
          "output_type": "execute_result",
          "data": {
            "text/html": [
              "<div>\n",
              "<style scoped>\n",
              "    .dataframe tbody tr th:only-of-type {\n",
              "        vertical-align: middle;\n",
              "    }\n",
              "\n",
              "    .dataframe tbody tr th {\n",
              "        vertical-align: top;\n",
              "    }\n",
              "\n",
              "    .dataframe thead th {\n",
              "        text-align: right;\n",
              "    }\n",
              "</style>\n",
              "<table border=\"1\" class=\"dataframe\">\n",
              "  <thead>\n",
              "    <tr style=\"text-align: right;\">\n",
              "      <th></th>\n",
              "      <th>age</th>\n",
              "      <th>on_thyroxine</th>\n",
              "      <th>query_on_thyroxine</th>\n",
              "      <th>on_antithyroid_medication</th>\n",
              "      <th>thyroid_surgery</th>\n",
              "      <th>query_hypothyroid</th>\n",
              "      <th>query_hyperthyroid</th>\n",
              "      <th>pregnant</th>\n",
              "      <th>sick</th>\n",
              "      <th>tumor</th>\n",
              "      <th>lithium</th>\n",
              "      <th>goitre</th>\n",
              "      <th>TSH</th>\n",
              "      <th>T3</th>\n",
              "      <th>TT4</th>\n",
              "      <th>T4U</th>\n",
              "      <th>FTI</th>\n",
              "      <th>TBG</th>\n",
              "    </tr>\n",
              "  </thead>\n",
              "  <tbody>\n",
              "    <tr>\n",
              "      <th>age</th>\n",
              "      <td>1.119804</td>\n",
              "      <td>0.020304</td>\n",
              "      <td>0.027710</td>\n",
              "      <td>0.039558</td>\n",
              "      <td>0.012316</td>\n",
              "      <td>-0.045754</td>\n",
              "      <td>0.044014</td>\n",
              "      <td>0.098682</td>\n",
              "      <td>-0.036206</td>\n",
              "      <td>0.058873</td>\n",
              "      <td>0.018677</td>\n",
              "      <td>0.005634</td>\n",
              "      <td>0.023903</td>\n",
              "      <td>0.285473</td>\n",
              "      <td>-0.111492</td>\n",
              "      <td>0.102311</td>\n",
              "      <td>0.004939</td>\n",
              "      <td>0.037898</td>\n",
              "    </tr>\n",
              "    <tr>\n",
              "      <th>on_thyroxine</th>\n",
              "      <td>0.020304</td>\n",
              "      <td>1.101041</td>\n",
              "      <td>0.015181</td>\n",
              "      <td>0.003552</td>\n",
              "      <td>-0.034692</td>\n",
              "      <td>-0.061841</td>\n",
              "      <td>0.129190</td>\n",
              "      <td>0.025337</td>\n",
              "      <td>0.073067</td>\n",
              "      <td>0.019478</td>\n",
              "      <td>0.012847</td>\n",
              "      <td>0.020930</td>\n",
              "      <td>-0.078419</td>\n",
              "      <td>0.136529</td>\n",
              "      <td>-0.472800</td>\n",
              "      <td>0.057298</td>\n",
              "      <td>0.144340</td>\n",
              "      <td>0.015950</td>\n",
              "    </tr>\n",
              "    <tr>\n",
              "      <th>query_on_thyroxine</th>\n",
              "      <td>0.027710</td>\n",
              "      <td>0.015181</td>\n",
              "      <td>1.007891</td>\n",
              "      <td>0.012111</td>\n",
              "      <td>-0.018068</td>\n",
              "      <td>0.017360</td>\n",
              "      <td>0.038250</td>\n",
              "      <td>0.009807</td>\n",
              "      <td>0.027485</td>\n",
              "      <td>-0.046754</td>\n",
              "      <td>0.002203</td>\n",
              "      <td>-0.007411</td>\n",
              "      <td>0.012657</td>\n",
              "      <td>0.003820</td>\n",
              "      <td>-0.021066</td>\n",
              "      <td>0.048427</td>\n",
              "      <td>0.029462</td>\n",
              "      <td>-0.000543</td>\n",
              "    </tr>\n",
              "    <tr>\n",
              "      <th>on_antithyroid_medication</th>\n",
              "      <td>0.039558</td>\n",
              "      <td>0.003552</td>\n",
              "      <td>0.012111</td>\n",
              "      <td>1.023932</td>\n",
              "      <td>0.011425</td>\n",
              "      <td>0.030444</td>\n",
              "      <td>-0.117884</td>\n",
              "      <td>0.015741</td>\n",
              "      <td>0.012647</td>\n",
              "      <td>0.016688</td>\n",
              "      <td>0.003806</td>\n",
              "      <td>0.032821</td>\n",
              "      <td>0.007327</td>\n",
              "      <td>-0.062856</td>\n",
              "      <td>0.056599</td>\n",
              "      <td>-0.011553</td>\n",
              "      <td>0.006871</td>\n",
              "      <td>0.013782</td>\n",
              "    </tr>\n",
              "    <tr>\n",
              "      <th>thyroid_surgery</th>\n",
              "      <td>0.012316</td>\n",
              "      <td>-0.034692</td>\n",
              "      <td>-0.018068</td>\n",
              "      <td>0.011425</td>\n",
              "      <td>1.006658</td>\n",
              "      <td>0.005949</td>\n",
              "      <td>-0.029020</td>\n",
              "      <td>0.020921</td>\n",
              "      <td>0.031175</td>\n",
              "      <td>0.023804</td>\n",
              "      <td>0.006216</td>\n",
              "      <td>0.025278</td>\n",
              "      <td>0.006462</td>\n",
              "      <td>0.011830</td>\n",
              "      <td>0.054085</td>\n",
              "      <td>-0.054817</td>\n",
              "      <td>-0.019981</td>\n",
              "      <td>0.018245</td>\n",
              "    </tr>\n",
              "    <tr>\n",
              "      <th>query_hypothyroid</th>\n",
              "      <td>-0.045754</td>\n",
              "      <td>-0.061841</td>\n",
              "      <td>0.017360</td>\n",
              "      <td>0.030444</td>\n",
              "      <td>0.005949</td>\n",
              "      <td>1.022837</td>\n",
              "      <td>0.005254</td>\n",
              "      <td>0.014044</td>\n",
              "      <td>0.056466</td>\n",
              "      <td>0.029480</td>\n",
              "      <td>-0.040922</td>\n",
              "      <td>0.022653</td>\n",
              "      <td>-0.059128</td>\n",
              "      <td>0.038776</td>\n",
              "      <td>-0.049390</td>\n",
              "      <td>-0.022370</td>\n",
              "      <td>0.059044</td>\n",
              "      <td>0.010157</td>\n",
              "    </tr>\n",
              "    <tr>\n",
              "      <th>query_hyperthyroid</th>\n",
              "      <td>0.044014</td>\n",
              "      <td>0.129190</td>\n",
              "      <td>0.038250</td>\n",
              "      <td>-0.117884</td>\n",
              "      <td>-0.029020</td>\n",
              "      <td>0.005254</td>\n",
              "      <td>1.080805</td>\n",
              "      <td>-0.032288</td>\n",
              "      <td>0.042814</td>\n",
              "      <td>0.037150</td>\n",
              "      <td>0.009019</td>\n",
              "      <td>-0.027894</td>\n",
              "      <td>-0.044533</td>\n",
              "      <td>-0.127795</td>\n",
              "      <td>-0.231775</td>\n",
              "      <td>0.099098</td>\n",
              "      <td>0.113720</td>\n",
              "      <td>0.006939</td>\n",
              "    </tr>\n",
              "    <tr>\n",
              "      <th>pregnant</th>\n",
              "      <td>0.098682</td>\n",
              "      <td>0.025337</td>\n",
              "      <td>0.009807</td>\n",
              "      <td>0.015741</td>\n",
              "      <td>0.020921</td>\n",
              "      <td>0.014044</td>\n",
              "      <td>-0.032288</td>\n",
              "      <td>1.154728</td>\n",
              "      <td>0.001276</td>\n",
              "      <td>0.008867</td>\n",
              "      <td>0.019492</td>\n",
              "      <td>-0.055960</td>\n",
              "      <td>0.025821</td>\n",
              "      <td>-0.032711</td>\n",
              "      <td>0.078851</td>\n",
              "      <td>-0.406070</td>\n",
              "      <td>-0.144591</td>\n",
              "      <td>-0.083611</td>\n",
              "    </tr>\n",
              "    <tr>\n",
              "      <th>sick</th>\n",
              "      <td>-0.036206</td>\n",
              "      <td>0.073067</td>\n",
              "      <td>0.027485</td>\n",
              "      <td>0.012647</td>\n",
              "      <td>0.031175</td>\n",
              "      <td>0.056466</td>\n",
              "      <td>0.042814</td>\n",
              "      <td>0.001276</td>\n",
              "      <td>1.024917</td>\n",
              "      <td>0.020626</td>\n",
              "      <td>0.001260</td>\n",
              "      <td>0.026583</td>\n",
              "      <td>0.009769</td>\n",
              "      <td>0.100799</td>\n",
              "      <td>-0.077601</td>\n",
              "      <td>0.028560</td>\n",
              "      <td>0.050947</td>\n",
              "      <td>-0.003233</td>\n",
              "    </tr>\n",
              "    <tr>\n",
              "      <th>tumor</th>\n",
              "      <td>0.058873</td>\n",
              "      <td>0.019478</td>\n",
              "      <td>-0.046754</td>\n",
              "      <td>0.016688</td>\n",
              "      <td>0.023804</td>\n",
              "      <td>0.029480</td>\n",
              "      <td>0.037150</td>\n",
              "      <td>0.008867</td>\n",
              "      <td>0.020626</td>\n",
              "      <td>1.012857</td>\n",
              "      <td>0.005303</td>\n",
              "      <td>0.026564</td>\n",
              "      <td>0.029169</td>\n",
              "      <td>-0.025485</td>\n",
              "      <td>0.036509</td>\n",
              "      <td>-0.027070</td>\n",
              "      <td>0.005438</td>\n",
              "      <td>0.004808</td>\n",
              "    </tr>\n",
              "    <tr>\n",
              "      <th>lithium</th>\n",
              "      <td>0.018677</td>\n",
              "      <td>0.012847</td>\n",
              "      <td>0.002203</td>\n",
              "      <td>0.003806</td>\n",
              "      <td>0.006216</td>\n",
              "      <td>-0.040922</td>\n",
              "      <td>0.009019</td>\n",
              "      <td>0.019492</td>\n",
              "      <td>0.001260</td>\n",
              "      <td>0.005303</td>\n",
              "      <td>1.004575</td>\n",
              "      <td>0.006392</td>\n",
              "      <td>0.015246</td>\n",
              "      <td>-0.006523</td>\n",
              "      <td>0.046610</td>\n",
              "      <td>-0.064497</td>\n",
              "      <td>-0.031367</td>\n",
              "      <td>-0.000268</td>\n",
              "    </tr>\n",
              "    <tr>\n",
              "      <th>goitre</th>\n",
              "      <td>0.005634</td>\n",
              "      <td>0.020930</td>\n",
              "      <td>-0.007411</td>\n",
              "      <td>0.032821</td>\n",
              "      <td>0.025278</td>\n",
              "      <td>0.022653</td>\n",
              "      <td>-0.027894</td>\n",
              "      <td>-0.055960</td>\n",
              "      <td>0.026583</td>\n",
              "      <td>0.026564</td>\n",
              "      <td>0.006392</td>\n",
              "      <td>1.017431</td>\n",
              "      <td>0.011065</td>\n",
              "      <td>-0.067193</td>\n",
              "      <td>0.018603</td>\n",
              "      <td>-0.033578</td>\n",
              "      <td>0.003332</td>\n",
              "      <td>0.019628</td>\n",
              "    </tr>\n",
              "    <tr>\n",
              "      <th>TSH</th>\n",
              "      <td>0.023903</td>\n",
              "      <td>-0.078419</td>\n",
              "      <td>0.012657</td>\n",
              "      <td>0.007327</td>\n",
              "      <td>0.006462</td>\n",
              "      <td>-0.059128</td>\n",
              "      <td>-0.044533</td>\n",
              "      <td>0.025821</td>\n",
              "      <td>0.009769</td>\n",
              "      <td>0.029169</td>\n",
              "      <td>0.015246</td>\n",
              "      <td>0.011065</td>\n",
              "      <td>1.187632</td>\n",
              "      <td>0.092336</td>\n",
              "      <td>0.709034</td>\n",
              "      <td>-0.435651</td>\n",
              "      <td>-0.335154</td>\n",
              "      <td>-0.008734</td>\n",
              "    </tr>\n",
              "    <tr>\n",
              "      <th>T3</th>\n",
              "      <td>0.285473</td>\n",
              "      <td>0.136529</td>\n",
              "      <td>0.003820</td>\n",
              "      <td>-0.062856</td>\n",
              "      <td>0.011830</td>\n",
              "      <td>0.038776</td>\n",
              "      <td>-0.127795</td>\n",
              "      <td>-0.032711</td>\n",
              "      <td>0.100799</td>\n",
              "      <td>-0.025485</td>\n",
              "      <td>-0.006523</td>\n",
              "      <td>-0.067193</td>\n",
              "      <td>0.092336</td>\n",
              "      <td>1.701354</td>\n",
              "      <td>-0.537700</td>\n",
              "      <td>-0.489617</td>\n",
              "      <td>-0.255593</td>\n",
              "      <td>0.010062</td>\n",
              "    </tr>\n",
              "    <tr>\n",
              "      <th>TT4</th>\n",
              "      <td>-0.111492</td>\n",
              "      <td>-0.472800</td>\n",
              "      <td>-0.021066</td>\n",
              "      <td>0.056599</td>\n",
              "      <td>0.054085</td>\n",
              "      <td>-0.049390</td>\n",
              "      <td>-0.231775</td>\n",
              "      <td>0.078851</td>\n",
              "      <td>-0.077601</td>\n",
              "      <td>0.036509</td>\n",
              "      <td>0.046610</td>\n",
              "      <td>0.018603</td>\n",
              "      <td>0.709034</td>\n",
              "      <td>-0.537700</td>\n",
              "      <td>4.966219</td>\n",
              "      <td>-2.496866</td>\n",
              "      <td>-3.703344</td>\n",
              "      <td>-0.061080</td>\n",
              "    </tr>\n",
              "    <tr>\n",
              "      <th>T4U</th>\n",
              "      <td>0.102311</td>\n",
              "      <td>0.057298</td>\n",
              "      <td>0.048427</td>\n",
              "      <td>-0.011553</td>\n",
              "      <td>-0.054817</td>\n",
              "      <td>-0.022370</td>\n",
              "      <td>0.099098</td>\n",
              "      <td>-0.406070</td>\n",
              "      <td>0.028560</td>\n",
              "      <td>-0.027070</td>\n",
              "      <td>-0.064497</td>\n",
              "      <td>-0.033578</td>\n",
              "      <td>-0.435651</td>\n",
              "      <td>-0.489617</td>\n",
              "      <td>-2.496866</td>\n",
              "      <td>2.897675</td>\n",
              "      <td>2.546018</td>\n",
              "      <td>0.031771</td>\n",
              "    </tr>\n",
              "    <tr>\n",
              "      <th>FTI</th>\n",
              "      <td>0.004939</td>\n",
              "      <td>0.144340</td>\n",
              "      <td>0.029462</td>\n",
              "      <td>0.006871</td>\n",
              "      <td>-0.019981</td>\n",
              "      <td>0.059044</td>\n",
              "      <td>0.113720</td>\n",
              "      <td>-0.144591</td>\n",
              "      <td>0.050947</td>\n",
              "      <td>0.005438</td>\n",
              "      <td>-0.031367</td>\n",
              "      <td>0.003332</td>\n",
              "      <td>-0.335154</td>\n",
              "      <td>-0.255593</td>\n",
              "      <td>-3.703344</td>\n",
              "      <td>2.546018</td>\n",
              "      <td>4.227693</td>\n",
              "      <td>0.042563</td>\n",
              "    </tr>\n",
              "    <tr>\n",
              "      <th>TBG</th>\n",
              "      <td>0.037898</td>\n",
              "      <td>0.015950</td>\n",
              "      <td>-0.000543</td>\n",
              "      <td>0.013782</td>\n",
              "      <td>0.018245</td>\n",
              "      <td>0.010157</td>\n",
              "      <td>0.006939</td>\n",
              "      <td>-0.083611</td>\n",
              "      <td>-0.003233</td>\n",
              "      <td>0.004808</td>\n",
              "      <td>-0.000268</td>\n",
              "      <td>0.019628</td>\n",
              "      <td>-0.008734</td>\n",
              "      <td>0.010062</td>\n",
              "      <td>-0.061080</td>\n",
              "      <td>0.031771</td>\n",
              "      <td>0.042563</td>\n",
              "      <td>1.010339</td>\n",
              "    </tr>\n",
              "  </tbody>\n",
              "</table>\n",
              "</div>"
            ],
            "text/plain": [
              "                                age  on_thyroxine  ...       FTI       TBG\n",
              "age                        1.119804      0.020304  ...  0.004939  0.037898\n",
              "on_thyroxine               0.020304      1.101041  ...  0.144340  0.015950\n",
              "query_on_thyroxine         0.027710      0.015181  ...  0.029462 -0.000543\n",
              "on_antithyroid_medication  0.039558      0.003552  ...  0.006871  0.013782\n",
              "thyroid_surgery            0.012316     -0.034692  ... -0.019981  0.018245\n",
              "query_hypothyroid         -0.045754     -0.061841  ...  0.059044  0.010157\n",
              "query_hyperthyroid         0.044014      0.129190  ...  0.113720  0.006939\n",
              "pregnant                   0.098682      0.025337  ... -0.144591 -0.083611\n",
              "sick                      -0.036206      0.073067  ...  0.050947 -0.003233\n",
              "tumor                      0.058873      0.019478  ...  0.005438  0.004808\n",
              "lithium                    0.018677      0.012847  ... -0.031367 -0.000268\n",
              "goitre                     0.005634      0.020930  ...  0.003332  0.019628\n",
              "TSH                        0.023903     -0.078419  ... -0.335154 -0.008734\n",
              "T3                         0.285473      0.136529  ... -0.255593  0.010062\n",
              "TT4                       -0.111492     -0.472800  ... -3.703344 -0.061080\n",
              "T4U                        0.102311      0.057298  ...  2.546018  0.031771\n",
              "FTI                        0.004939      0.144340  ...  4.227693  0.042563\n",
              "TBG                        0.037898      0.015950  ...  0.042563  1.010339\n",
              "\n",
              "[18 rows x 18 columns]"
            ]
          },
          "metadata": {
            "tags": []
          },
          "execution_count": 130
        }
      ]
    },
    {
      "cell_type": "markdown",
      "metadata": {
        "id": "hGQHagujZ2V6",
        "colab_type": "text"
      },
      "source": [
        "We Observe that VIF scores are below 5 this is within the range, there is no multicollinearity among our independent variables."
      ]
    },
    {
      "cell_type": "code",
      "metadata": {
        "id": "rGVeD-y-1y8T",
        "colab_type": "code",
        "colab": {}
      },
      "source": [
        "#Encoding labels and attributes so that it is easy to do the analysis\n",
        "\n",
        "features = df.drop(['status'], axis=1)\n",
        "\n",
        "features =pd.get_dummies(features)\n",
        "\n",
        "y = np.where(df.status == 'hypothyroid', 1, 0)\n",
        "\n",
        "y = df['status']\n"
      ],
      "execution_count": 18,
      "outputs": []
    },
    {
      "cell_type": "markdown",
      "metadata": {
        "id": "2jo2CSTeNUBK",
        "colab_type": "text"
      },
      "source": [
        "Perfoming LDA to determine whch factors most influence hypothyroid condition."
      ]
    },
    {
      "cell_type": "code",
      "metadata": {
        "id": "uO0j67Vj1i-K",
        "colab_type": "code",
        "colab": {
          "base_uri": "https://localhost:8080/",
          "height": 1000
        },
        "outputId": "564da4a3-572c-4777-837b-76592135f0d0"
      },
      "source": [
        "# dividing dataset into feature set and corresponding labels\n",
        "features = df.drop(['status'], axis=1)\n",
        "\n",
        "features =pd.get_dummies(features)\n",
        "\n",
        "X = features \n",
        "\n",
        "y = np.where(df.status == 'hypothyroid', 1, 0)\n",
        "\n",
        "# splitting the data into train and test sets\n",
        "# import train_test_split\n",
        "from sklearn.model_selection import train_test_split\n",
        "X_train, X_test, y_train, y_test = train_test_split(X, y, test_size = 0.2, random_state = 0)\n",
        "\n",
        "# normalizing our data\n",
        "from sklearn.preprocessing import StandardScaler\n",
        "sc = StandardScaler()\n",
        "X_train = sc.fit_transform(X_train)\n",
        "X_test = sc.transform(X_test)\n",
        "\n",
        "# applying Principle Component Analyis\n",
        "# importing pca\n",
        "from sklearn.discriminant_analysis import LinearDiscriminantAnalysis as LDA\n",
        "\n",
        "lda = LDA(n_components = 1)\n",
        "X_train = lda.fit_transform(X_train, y_train)\n",
        "X_test = lda.transform(X_test)\n",
        "\n",
        "# printing factors that affect the price of a house in order of how much weight each of the factors carry \n",
        "factors = pd.DataFrame (index = X.columns.values, data = lda.coef_[0].T)\n",
        "# pd.options.display.float_format = '{:.8f}'.float_format\n",
        "factors.sort_values(0, ascending = False)"
      ],
      "execution_count": null,
      "outputs": [
        {
          "output_type": "execute_result",
          "data": {
            "text/html": [
              "<div>\n",
              "<style scoped>\n",
              "    .dataframe tbody tr th:only-of-type {\n",
              "        vertical-align: middle;\n",
              "    }\n",
              "\n",
              "    .dataframe tbody tr th {\n",
              "        vertical-align: top;\n",
              "    }\n",
              "\n",
              "    .dataframe thead th {\n",
              "        text-align: right;\n",
              "    }\n",
              "</style>\n",
              "<table border=\"1\" class=\"dataframe\">\n",
              "  <thead>\n",
              "    <tr style=\"text-align: right;\">\n",
              "      <th></th>\n",
              "      <th>0</th>\n",
              "    </tr>\n",
              "  </thead>\n",
              "  <tbody>\n",
              "    <tr>\n",
              "      <th>TSH</th>\n",
              "      <td>4.053050e+00</td>\n",
              "    </tr>\n",
              "    <tr>\n",
              "      <th>T4U</th>\n",
              "      <td>1.596613e+00</td>\n",
              "    </tr>\n",
              "    <tr>\n",
              "      <th>FTI_measured_y</th>\n",
              "      <td>1.357124e+00</td>\n",
              "    </tr>\n",
              "    <tr>\n",
              "      <th>TBG_measured_y</th>\n",
              "      <td>1.110610e+00</td>\n",
              "    </tr>\n",
              "    <tr>\n",
              "      <th>FTI</th>\n",
              "      <td>8.117605e-01</td>\n",
              "    </tr>\n",
              "    <tr>\n",
              "      <th>query_hyperthyroid</th>\n",
              "      <td>3.783921e-01</td>\n",
              "    </tr>\n",
              "    <tr>\n",
              "      <th>TSH_measured_y</th>\n",
              "      <td>3.710583e-01</td>\n",
              "    </tr>\n",
              "    <tr>\n",
              "      <th>T4U_measured_n</th>\n",
              "      <td>3.137368e-01</td>\n",
              "    </tr>\n",
              "    <tr>\n",
              "      <th>age</th>\n",
              "      <td>2.704071e-01</td>\n",
              "    </tr>\n",
              "    <tr>\n",
              "      <th>thyroid_surgery</th>\n",
              "      <td>2.387276e-01</td>\n",
              "    </tr>\n",
              "    <tr>\n",
              "      <th>query_hypothyroid</th>\n",
              "      <td>1.332786e-01</td>\n",
              "    </tr>\n",
              "    <tr>\n",
              "      <th>sex_?</th>\n",
              "      <td>9.894046e-02</td>\n",
              "    </tr>\n",
              "    <tr>\n",
              "      <th>goitre</th>\n",
              "      <td>8.613730e-02</td>\n",
              "    </tr>\n",
              "    <tr>\n",
              "      <th>TT4_measured_y</th>\n",
              "      <td>8.233839e-02</td>\n",
              "    </tr>\n",
              "    <tr>\n",
              "      <th>sex_F</th>\n",
              "      <td>5.927612e-02</td>\n",
              "    </tr>\n",
              "    <tr>\n",
              "      <th>TBG</th>\n",
              "      <td>4.783947e-02</td>\n",
              "    </tr>\n",
              "    <tr>\n",
              "      <th>on_thyroxine</th>\n",
              "      <td>4.211284e-02</td>\n",
              "    </tr>\n",
              "    <tr>\n",
              "      <th>T3_measured_n</th>\n",
              "      <td>3.190230e-02</td>\n",
              "    </tr>\n",
              "    <tr>\n",
              "      <th>lithium</th>\n",
              "      <td>5.742211e-16</td>\n",
              "    </tr>\n",
              "    <tr>\n",
              "      <th>T3_measured_y</th>\n",
              "      <td>-3.190230e-02</td>\n",
              "    </tr>\n",
              "    <tr>\n",
              "      <th>TT4_measured_n</th>\n",
              "      <td>-8.233839e-02</td>\n",
              "    </tr>\n",
              "    <tr>\n",
              "      <th>sex_M</th>\n",
              "      <td>-9.340512e-02</td>\n",
              "    </tr>\n",
              "    <tr>\n",
              "      <th>query_on_thyroxine</th>\n",
              "      <td>-1.089318e-01</td>\n",
              "    </tr>\n",
              "    <tr>\n",
              "      <th>on_antithyroid_medication</th>\n",
              "      <td>-1.161326e-01</td>\n",
              "    </tr>\n",
              "    <tr>\n",
              "      <th>tumor</th>\n",
              "      <td>-1.182177e-01</td>\n",
              "    </tr>\n",
              "    <tr>\n",
              "      <th>pregnant</th>\n",
              "      <td>-1.222887e-01</td>\n",
              "    </tr>\n",
              "    <tr>\n",
              "      <th>T3</th>\n",
              "      <td>-1.421185e-01</td>\n",
              "    </tr>\n",
              "    <tr>\n",
              "      <th>sick</th>\n",
              "      <td>-2.593879e-01</td>\n",
              "    </tr>\n",
              "    <tr>\n",
              "      <th>T4U_measured_y</th>\n",
              "      <td>-3.137368e-01</td>\n",
              "    </tr>\n",
              "    <tr>\n",
              "      <th>TSH_measured_n</th>\n",
              "      <td>-3.710583e-01</td>\n",
              "    </tr>\n",
              "    <tr>\n",
              "      <th>TBG_measured_n</th>\n",
              "      <td>-1.110610e+00</td>\n",
              "    </tr>\n",
              "    <tr>\n",
              "      <th>FTI_measured_n</th>\n",
              "      <td>-1.357124e+00</td>\n",
              "    </tr>\n",
              "    <tr>\n",
              "      <th>TT4</th>\n",
              "      <td>-3.058913e+00</td>\n",
              "    </tr>\n",
              "  </tbody>\n",
              "</table>\n",
              "</div>"
            ],
            "text/plain": [
              "                                      0\n",
              "TSH                        4.053050e+00\n",
              "T4U                        1.596613e+00\n",
              "FTI_measured_y             1.357124e+00\n",
              "TBG_measured_y             1.110610e+00\n",
              "FTI                        8.117605e-01\n",
              "query_hyperthyroid         3.783921e-01\n",
              "TSH_measured_y             3.710583e-01\n",
              "T4U_measured_n             3.137368e-01\n",
              "age                        2.704071e-01\n",
              "thyroid_surgery            2.387276e-01\n",
              "query_hypothyroid          1.332786e-01\n",
              "sex_?                      9.894046e-02\n",
              "goitre                     8.613730e-02\n",
              "TT4_measured_y             8.233839e-02\n",
              "sex_F                      5.927612e-02\n",
              "TBG                        4.783947e-02\n",
              "on_thyroxine               4.211284e-02\n",
              "T3_measured_n              3.190230e-02\n",
              "lithium                    5.742211e-16\n",
              "T3_measured_y             -3.190230e-02\n",
              "TT4_measured_n            -8.233839e-02\n",
              "sex_M                     -9.340512e-02\n",
              "query_on_thyroxine        -1.089318e-01\n",
              "on_antithyroid_medication -1.161326e-01\n",
              "tumor                     -1.182177e-01\n",
              "pregnant                  -1.222887e-01\n",
              "T3                        -1.421185e-01\n",
              "sick                      -2.593879e-01\n",
              "T4U_measured_y            -3.137368e-01\n",
              "TSH_measured_n            -3.710583e-01\n",
              "TBG_measured_n            -1.110610e+00\n",
              "FTI_measured_n            -1.357124e+00\n",
              "TT4                       -3.058913e+00"
            ]
          },
          "metadata": {
            "tags": []
          },
          "execution_count": 29
        }
      ]
    },
    {
      "cell_type": "markdown",
      "metadata": {
        "id": "BSofhY_A_pZF",
        "colab_type": "text"
      },
      "source": [
        "The top 3 features that influence the status of whether one has hypothyroid are \n",
        "TSH\t4.053050e+00\n",
        "T4U\t1.596613e+00\n",
        "FTI_measured_y\t1.357124e+00\n",
        "\n",
        "The 4 features from the bottom are;This means that they least influence the status\n",
        "\n",
        "TSH_measured_n\t-3.710583e-01\n",
        "TBG_measured_n\t-1.110610e+00\n",
        "FTI_measured_n\t-1.357124e+00\n",
        "TT4\t-3.058913e+00"
      ]
    },
    {
      "cell_type": "markdown",
      "metadata": {
        "id": "NCNDAvnhu016",
        "colab_type": "text"
      },
      "source": [
        "# 7.Implementing the models\n",
        "\n",
        "a)The baseline model"
      ]
    },
    {
      "cell_type": "code",
      "metadata": {
        "id": "kFyZcCeVScEp",
        "colab_type": "code",
        "colab": {
          "base_uri": "https://localhost:8080/",
          "height": 391
        },
        "outputId": "4f6e4386-74c9-4372-ce68-d3a7e64c5789"
      },
      "source": [
        "#We will begin by building our baseline models, we will use decison tree and logistic classifier\n",
        "# We will split the independent and dependent variables\n",
        "\n",
        "features = df.drop(['status'], axis=1)\n",
        "\n",
        "features =pd.get_dummies(features)\n",
        "X =features\n",
        "\n",
        "y = np.where(df.status == 'hypothyroid', 1, 0)\n",
        "\n",
        "# Split dataset into training set and test set\n",
        "from sklearn.model_selection import train_test_split\n",
        "X_train, X_test, y_train, y_test = train_test_split(X, y, test_size=0.25)\n",
        "\n",
        "#Intantiate our models\n",
        "\n",
        "logistic_classifier = LogisticRegression(random_state = 0, solver='lbfgs')\n",
        "decision_classifier = DecisionTreeClassifier()\n",
        "\n",
        "# Use these classifiers to fit our data, X_train and y_train\n",
        "\n",
        "logistic_classifier.fit(X_train, y_train)\n",
        "decision_classifier.fit(X_train, y_train)\n",
        "\n",
        "from sklearn.metrics import classification_report, accuracy_score \n",
        "\n",
        "# Printing the accuracy score \n",
        "\n",
        "print(accuracy_score(logistic_y_prediction, y_test))\n",
        "print(accuracy_score(decision_y_prediction, y_test))\n",
        "\n",
        "\n",
        "#Printing the classification report, \n",
        "\n",
        "print('Logistic classifier:')\n",
        "print(classification_report(y_test, logistic_y_prediction))\n",
        "\n",
        "print('Decision Tree classifier:')\n",
        "print(classification_report(y_test, decision_y_prediction))"
      ],
      "execution_count": null,
      "outputs": [
        {
          "output_type": "stream",
          "text": [
            "0.9152970922882427\n",
            "0.9013906447534766\n",
            "Logistic classifier:\n",
            "              precision    recall  f1-score   support\n",
            "\n",
            "           0       0.95      0.96      0.96       749\n",
            "           1       0.07      0.05      0.06        42\n",
            "\n",
            "    accuracy                           0.92       791\n",
            "   macro avg       0.51      0.51      0.51       791\n",
            "weighted avg       0.90      0.92      0.91       791\n",
            "\n",
            "Decision Tree classifier:\n",
            "              precision    recall  f1-score   support\n",
            "\n",
            "           0       0.95      0.95      0.95       749\n",
            "           1       0.05      0.05      0.05        42\n",
            "\n",
            "    accuracy                           0.90       791\n",
            "   macro avg       0.50      0.50      0.50       791\n",
            "weighted avg       0.90      0.90      0.90       791\n",
            "\n"
          ],
          "name": "stdout"
        }
      ]
    },
    {
      "cell_type": "markdown",
      "metadata": {
        "id": "EPQ9DoAkL1Cv",
        "colab_type": "text"
      },
      "source": [
        "Since this is a classification problem, we will begin by building a baseline model. We have used Logistic classification and decision tree. This is to help us compare the performance of our models with the baseline model. We have used all the features and have not normalized or standadized our data.\n",
        "\n",
        "Accuracy score for decison tree baseline model is 91% while that of logistic is 90%. We will compare this performance with other models."
      ]
    },
    {
      "cell_type": "markdown",
      "metadata": {
        "id": "x5hIZslxL1--",
        "colab_type": "text"
      },
      "source": [
        "\n",
        "\n",
        "\n",
        "b)RandomForestClassifier\n",
        "\n",
        "Brief\n",
        "The random forest is a classification algorithm consisting of many decisions trees. It uses bagging and feature randomness when building each individual tree to try to create an uncorrelated forest of trees whose prediction by committee is more accurate than that of any individual tree.\n",
        "\n",
        "  i) With all features"
      ]
    },
    {
      "cell_type": "code",
      "metadata": {
        "id": "2_p_VaaXOyE4",
        "colab_type": "code",
        "colab": {
          "base_uri": "https://localhost:8080/",
          "height": 255
        },
        "outputId": "90f580be-9165-4b66-cf04-fba215c31de5"
      },
      "source": [
        "from sklearn.model_selection import train_test_split\n",
        "from sklearn.ensemble import RandomForestClassifier\n",
        "from sklearn import metrics\n",
        "\n",
        "# We will split the independent and dependent variables\n",
        "\n",
        "features = df.drop(['status'], axis=1)\n",
        "\n",
        "features =pd.get_dummies(features)\n",
        "features=X \n",
        "\n",
        "y = np.where(df.status == 'hypothyroid', 1, 0)\n",
        "\n",
        "# Train using 80% of the data.\n",
        "X_train, X_test, y_train, y_test = train_test_split(X, y, test_size=0.3, random_state=0)\n",
        "\n",
        "\n",
        "# The random_state variable is here to guarantee that we all see the same numbers.\n",
        "#We will not apply the n_estimators, min_sample and maximum depth parameters.These will be \n",
        "#applied in the optimized model\n",
        "\n",
        "classifier = RandomForestClassifier(random_state=42) #n_estimators = 100, , min_samples_split = 20, max_depth=5)\n",
        "classifier = classifier.fit(X_train, y_train)\n",
        "\n",
        "# Predict based on the model we've trained\n",
        "y_pred = classifier.predict(X_test)\n",
        "\n",
        "print(confusion_matrix(y_test,y_pred))\n",
        "print(classification_report(y_test,y_pred))\n",
        "\n",
        "# Print metric to assess the errors\n",
        "print('Mean Absolute Error:', metrics.mean_absolute_error(y_test, y_pred))  \n",
        "print('Mean Squared Error:', metrics.mean_squared_error(y_test, y_pred))  \n",
        "print('Root Mean Squared Error:', np.sqrt(metrics.mean_squared_error(y_test, y_pred)))"
      ],
      "execution_count": null,
      "outputs": [
        {
          "output_type": "stream",
          "text": [
            "[[905   5]\n",
            " [  8  31]]\n",
            "              precision    recall  f1-score   support\n",
            "\n",
            "           0       0.99      0.99      0.99       910\n",
            "           1       0.86      0.79      0.83        39\n",
            "\n",
            "    accuracy                           0.99       949\n",
            "   macro avg       0.93      0.89      0.91       949\n",
            "weighted avg       0.99      0.99      0.99       949\n",
            "\n",
            "Mean Absolute Error: 0.0136986301369863\n",
            "Mean Squared Error: 0.0136986301369863\n",
            "Root Mean Squared Error: 0.11704114719613055\n"
          ],
          "name": "stdout"
        }
      ]
    },
    {
      "cell_type": "markdown",
      "metadata": {
        "id": "BU3_f9OL67-9",
        "colab_type": "text"
      },
      "source": [
        "When we applied all the features, Our model have an accuracy score of 99% and a good RMSE score of  0.11704,we did not set parameters, We will check for feature importance and set parameters, so as to compare pereformace with optimized parameters"
      ]
    },
    {
      "cell_type": "code",
      "metadata": {
        "id": "rCbZWQGVhJTx",
        "colab_type": "code",
        "colab": {
          "base_uri": "https://localhost:8080/",
          "height": 297
        },
        "outputId": "4afb2c94-0cfd-4edd-885c-ed6970a7831f"
      },
      "source": [
        "#Comparison of predicted outcome and actual\n",
        "df.describe()\n",
        "\n",
        "comparison_frame = pd.DataFrame({'Actual': y_test.flatten(), 'Predicted': y_pred.flatten()})\n",
        "\n",
        "comparison_frame.describe()"
      ],
      "execution_count": null,
      "outputs": [
        {
          "output_type": "execute_result",
          "data": {
            "text/html": [
              "<div>\n",
              "<style scoped>\n",
              "    .dataframe tbody tr th:only-of-type {\n",
              "        vertical-align: middle;\n",
              "    }\n",
              "\n",
              "    .dataframe tbody tr th {\n",
              "        vertical-align: top;\n",
              "    }\n",
              "\n",
              "    .dataframe thead th {\n",
              "        text-align: right;\n",
              "    }\n",
              "</style>\n",
              "<table border=\"1\" class=\"dataframe\">\n",
              "  <thead>\n",
              "    <tr style=\"text-align: right;\">\n",
              "      <th></th>\n",
              "      <th>Actual</th>\n",
              "      <th>Predicted</th>\n",
              "    </tr>\n",
              "  </thead>\n",
              "  <tbody>\n",
              "    <tr>\n",
              "      <th>count</th>\n",
              "      <td>949.000000</td>\n",
              "      <td>949.000000</td>\n",
              "    </tr>\n",
              "    <tr>\n",
              "      <th>mean</th>\n",
              "      <td>0.041096</td>\n",
              "      <td>0.037935</td>\n",
              "    </tr>\n",
              "    <tr>\n",
              "      <th>std</th>\n",
              "      <td>0.198617</td>\n",
              "      <td>0.191139</td>\n",
              "    </tr>\n",
              "    <tr>\n",
              "      <th>min</th>\n",
              "      <td>0.000000</td>\n",
              "      <td>0.000000</td>\n",
              "    </tr>\n",
              "    <tr>\n",
              "      <th>25%</th>\n",
              "      <td>0.000000</td>\n",
              "      <td>0.000000</td>\n",
              "    </tr>\n",
              "    <tr>\n",
              "      <th>50%</th>\n",
              "      <td>0.000000</td>\n",
              "      <td>0.000000</td>\n",
              "    </tr>\n",
              "    <tr>\n",
              "      <th>75%</th>\n",
              "      <td>0.000000</td>\n",
              "      <td>0.000000</td>\n",
              "    </tr>\n",
              "    <tr>\n",
              "      <th>max</th>\n",
              "      <td>1.000000</td>\n",
              "      <td>1.000000</td>\n",
              "    </tr>\n",
              "  </tbody>\n",
              "</table>\n",
              "</div>"
            ],
            "text/plain": [
              "           Actual   Predicted\n",
              "count  949.000000  949.000000\n",
              "mean     0.041096    0.037935\n",
              "std      0.198617    0.191139\n",
              "min      0.000000    0.000000\n",
              "25%      0.000000    0.000000\n",
              "50%      0.000000    0.000000\n",
              "75%      0.000000    0.000000\n",
              "max      1.000000    1.000000"
            ]
          },
          "metadata": {
            "tags": []
          },
          "execution_count": 35
        }
      ]
    },
    {
      "cell_type": "markdown",
      "metadata": {
        "id": "q6kSk2nr8lRW",
        "colab_type": "text"
      },
      "source": [
        "ii ) Checking for feature Importance"
      ]
    },
    {
      "cell_type": "code",
      "metadata": {
        "id": "MNZoeAhyhtYX",
        "colab_type": "code",
        "colab": {
          "base_uri": "https://localhost:8080/",
          "height": 496
        },
        "outputId": "aefc898c-11a1-4f95-9d92-984062028fdc"
      },
      "source": [
        "# Get numerical feature importances\n",
        "importances = list(tree.feature_importances_)\n",
        "\n",
        "# Check each feature with its importance\n",
        "feature_importances = [(feature, round(importance, 2)) for feature, importance in zip(test_features, importances)]\n",
        "\n",
        "print(feature_importances) \n",
        "print()\n",
        "\n",
        "# We can sort the values in descending order, since we care about the most important features first.\n",
        "feature_importances = sorted(feature_importances, key = lambda x: x[1], reverse = True)\n",
        "\n",
        "# Printing out the feature and importances \n",
        "[print('Variable: {:20} Importance: {}'.format(*pair)) for pair in feature_importances];"
      ],
      "execution_count": null,
      "outputs": [
        {
          "output_type": "stream",
          "text": [
            "[('age', 0.01), ('sex', 0.0), ('on_thyroxine', 0.0), ('query_on_thyroxine', 0.04), ('on_antithyroid_medication', 0.0), ('thyroid_surgery', 0.0), ('query_hypothyroid', 0.0), ('query_hyperthyroid', 0.0), ('pregnant', 0.0), ('sick', 0.0), ('tumor', 0.0), ('lithium', 0.0), ('goitre', 0.22), ('TSH_measured', 0.0), ('TSH', 0.66), ('T3_measured', 0.0), ('T3', 0.07), ('TT4_measured', 0.0), ('TT4', 0.0), ('T4U_measured', 0.0), ('T4U', 0.0), ('FTI_measured', 0.0), ('FTI', 0.0), ('TBG_measured', 0.0), ('TBG', 0.0)]\n",
            "\n",
            "Variable: TSH                  Importance: 0.66\n",
            "Variable: goitre               Importance: 0.22\n",
            "Variable: T3                   Importance: 0.07\n",
            "Variable: query_on_thyroxine   Importance: 0.04\n",
            "Variable: age                  Importance: 0.01\n",
            "Variable: sex                  Importance: 0.0\n",
            "Variable: on_thyroxine         Importance: 0.0\n",
            "Variable: on_antithyroid_medication Importance: 0.0\n",
            "Variable: thyroid_surgery      Importance: 0.0\n",
            "Variable: query_hypothyroid    Importance: 0.0\n",
            "Variable: query_hyperthyroid   Importance: 0.0\n",
            "Variable: pregnant             Importance: 0.0\n",
            "Variable: sick                 Importance: 0.0\n",
            "Variable: tumor                Importance: 0.0\n",
            "Variable: lithium              Importance: 0.0\n",
            "Variable: TSH_measured         Importance: 0.0\n",
            "Variable: T3_measured          Importance: 0.0\n",
            "Variable: TT4_measured         Importance: 0.0\n",
            "Variable: TT4                  Importance: 0.0\n",
            "Variable: T4U_measured         Importance: 0.0\n",
            "Variable: T4U                  Importance: 0.0\n",
            "Variable: FTI_measured         Importance: 0.0\n",
            "Variable: FTI                  Importance: 0.0\n",
            "Variable: TBG_measured         Importance: 0.0\n",
            "Variable: TBG                  Importance: 0.0\n"
          ],
          "name": "stdout"
        }
      ]
    },
    {
      "cell_type": "markdown",
      "metadata": {
        "id": "ObzoNnDPEW89",
        "colab_type": "text"
      },
      "source": [
        "From the above outcome, we can observe that the top 5 most important features are:\n",
        "\n",
        "Variable: TSH                  Importance: 0.66\n",
        "\n",
        "Variable: goitre               Importance: 0.22\n",
        "\n",
        "Variable: T3                   Importance: 0.07\n",
        "\n",
        "Variable: query_on_thyroxine   Importance: 0.04\n",
        "\n",
        "Variable: age                  Importance: 0.01\n",
        "\n",
        "This is somewhat different with the results we got from LDA, TSH was the top influencer but the order of the other 4 is different.\n",
        "The rest of the features are not important."
      ]
    },
    {
      "cell_type": "code",
      "metadata": {
        "id": "3nwp1CU8hthb",
        "colab_type": "code",
        "colab": {
          "base_uri": "https://localhost:8080/",
          "height": 497
        },
        "outputId": "34fe9c8d-d918-439c-927a-4f9c789876c6"
      },
      "source": [
        "#Plotting the feature importance\n",
        "# Set the style\n",
        "plt.style.use('fivethirtyeight')\n",
        "\n",
        "# list of x locations for plotting\n",
        "x_values = list(range(len(importances)))\n",
        "\n",
        "# Make a bar chart\n",
        "plt.bar(x_values, importances, orientation = 'vertical')\n",
        "\n",
        "# Tick labels for x axis\n",
        "plt.xticks(x_values, test_features, rotation='vertical')\n",
        "\n",
        "# Axis labels and title\n",
        "plt.ylabel('Importance'); plt.xlabel('Variable'); plt.title('Feature Importances'); "
      ],
      "execution_count": null,
      "outputs": [
        {
          "output_type": "display_data",
          "data": {
            "image/png": "[encoded data removed]",
            "text/plain": [
              "<Figure size 432x288 with 1 Axes>"
            ]
          },
          "metadata": {
            "tags": []
          }
        }
      ]
    },
    {
      "cell_type": "markdown",
      "metadata": {
        "id": "u4rBRA9VaMWC",
        "colab_type": "text"
      },
      "source": [
        " iii) Parameter tuning"
      ]
    },
    {
      "cell_type": "code",
      "metadata": {
        "id": "bhMYna50UAl-",
        "colab_type": "code",
        "colab": {
          "base_uri": "https://localhost:8080/",
          "height": 34
        },
        "outputId": "a39203d0-e5b9-405a-b1cb-15fddb4519a6"
      },
      "source": [
        "from sklearn.model_selection import KFold\n",
        "from sklearn.metrics import accuracy_score\n",
        "import warnings\n",
        "warnings.filterwarnings(action = 'ignore')\n",
        "\n",
        "# Checking best parameters that we will apply to tune the model as we build a model with important features only\n",
        "\n",
        "parameters = {'n_estimators': [5, 20, 40, 80, 150],\n",
        "        'max_depth': [2, 4,5,6, 8, 10]\n",
        "      }\n",
        "\n",
        "#We will apply cross validation of 10 folds\n",
        "\n",
        "kfold = KFold(n_splits = 10, shuffle=True)\n",
        "\n",
        "# #We will use gridSerach method to search for best parameters and 5 kfolds to validate\n",
        "classifier = RandomForestClassifier()\n",
        "search = GridSearchCV(model, param_grid=parameters, scoring= 'f1', cv = kfold)\n",
        "\n",
        "# Fit our model with our variables \n",
        "#\n",
        "search.fit(X, y)\n",
        "\n",
        "# Checking for the best parameters\n",
        "\n",
        "print(f'Best parameters: {search.best_params_}')"
      ],
      "execution_count": null,
      "outputs": [
        {
          "output_type": "stream",
          "text": [
            "Best parameters: {'max_depth': 8, 'n_estimators': 40}\n"
          ],
          "name": "stdout"
        }
      ]
    },
    {
      "cell_type": "markdown",
      "metadata": {
        "id": "71uP0yLkauQA",
        "colab_type": "text"
      },
      "source": [
        "The best parameters to apply is a max-depth of 8 and n_estimators of 40"
      ]
    },
    {
      "cell_type": "markdown",
      "metadata": {
        "id": "doqLsvjw-1fu",
        "colab_type": "text"
      },
      "source": [
        " iv) Random Forest with important features only and best parameters"
      ]
    },
    {
      "cell_type": "code",
      "metadata": {
        "id": "S91pwedVbKC9",
        "colab_type": "code",
        "colab": {
          "base_uri": "https://localhost:8080/",
          "height": 255
        },
        "outputId": "2f584a50-922e-46e7-86ba-35134f53dc1f"
      },
      "source": [
        " #We will split the independent and dependent variables\n",
        "\n",
        "X = features[['TSH','goitre','T3','query_on_thyroxine','age']]\n",
        "\n",
        "y = np.where(df.status == 'hypothyroid', 1, 0)\n",
        "\n",
        "# Train using 70% of the data.\n",
        "X_train, X_test, y_train, y_test = train_test_split(X, y, test_size=0.3, random_state=0)\n",
        "\n",
        "\n",
        "# Import the model and metrics\n",
        "from sklearn.ensemble import RandomForestClassifier\n",
        "from sklearn import metrics\n",
        "\n",
        "# The random_state variable is here to guarantee that we all see the same numbers.\n",
        "# We will apply min_samples_split of 20,  max_depth of 5 and 50 trees\n",
        "classifier = RandomForestClassifier(n_estimators = 40,random_state=42, max_depth=8)\n",
        "classifier = classifier.fit(X_train, y_train)\n",
        "\n",
        "# Predict based on the model we've trained\n",
        "y_pred = classifier.predict(X_test)\n",
        "\n",
        "#Printing the accuracy score\n",
        "print(confusion_matrix(y_test,y_pred))\n",
        "print(classification_report(y_test,y_pred))\n",
        "\n",
        "# Print metric to assess the errors\n",
        "print('Mean Absolute Error:', metrics.mean_absolute_error(y_test, y_pred))  \n",
        "print('Mean Squared Error:', metrics.mean_squared_error(y_test, y_pred))  \n",
        "print('Root Mean Squared Error:', np.sqrt(metrics.mean_squared_error(y_test, y_pred)))"
      ],
      "execution_count": null,
      "outputs": [
        {
          "output_type": "stream",
          "text": [
            "[[896  14]\n",
            " [ 13  26]]\n",
            "              precision    recall  f1-score   support\n",
            "\n",
            "           0       0.99      0.98      0.99       910\n",
            "           1       0.65      0.67      0.66        39\n",
            "\n",
            "    accuracy                           0.97       949\n",
            "   macro avg       0.82      0.83      0.82       949\n",
            "weighted avg       0.97      0.97      0.97       949\n",
            "\n",
            "Mean Absolute Error: 0.02845100105374078\n",
            "Mean Squared Error: 0.02845100105374078\n",
            "Root Mean Squared Error: 0.16867424537771253\n"
          ],
          "name": "stdout"
        }
      ]
    },
    {
      "cell_type": "markdown",
      "metadata": {
        "id": "kDiBfFUPBrik",
        "colab_type": "text"
      },
      "source": [
        "The performance of this model is lower incomparison with our earlier model that we applied all the features. The accuracy score is 97% compared to 99%, RMSE Score 0.1687 slightly higher than 0.11704 that we got in the first model. We applied 50 trees and maximum depth of 5.\n",
        "\n",
        "\n",
        "The fact that it uses bagging and feature randomness when building each individual tree to try to create an uncorrelated forest of trees whose prediction by committee is more accurate than that of any individual tree. This could explain the great performance."
      ]
    },
    {
      "cell_type": "markdown",
      "metadata": {
        "id": "AmMNBmevfQkW",
        "colab_type": "text"
      },
      "source": [
        "c)AdaboostClassifier\n",
        "\n",
        "AdaBoost is sensitive to noisy data and outliers. In some problems it can be less susceptible to the overfitting problem than other learning algorithms.\n",
        "\n",
        "i ) With all features"
      ]
    },
    {
      "cell_type": "code",
      "metadata": {
        "id": "LfMKlBkEft0s",
        "colab_type": "code",
        "colab": {
          "base_uri": "https://localhost:8080/",
          "height": 272
        },
        "outputId": "d59f3e7c-3230-49aa-fb58-711ee8014cb0"
      },
      "source": [
        "# Load libraries\n",
        "from sklearn.ensemble import AdaBoostClassifier\n",
        "from sklearn import datasets\n",
        "# Import train_test_split function\n",
        "from sklearn.model_selection import train_test_split\n",
        "#Import scikit-learn metrics module for accuracy calculation\n",
        "from sklearn import metrics\n",
        "\n",
        "# We will split the independent and dependent variables\n",
        "\n",
        "features = df.drop(['status'], axis=1)\n",
        "\n",
        "features =pd.get_dummies(features)\n",
        "X =features\n",
        "\n",
        "y = np.where(df.status == 'hypothyroid', 1, 0)\n",
        "\n",
        "# Split dataset into training set and test set\n",
        "X_train, X_test, y_train, y_test = train_test_split(X, y, test_size=0.3) # 70% training and 30% test\n",
        "\n",
        "\n",
        "# Create adaboost classifer object\n",
        "adaboost = AdaBoostClassifier(n_estimators=50,\n",
        "                         learning_rate=1)\n",
        "# Train Adaboost Classifer \n",
        "model = adaboost.fit(X_train, y_train)\n",
        "\n",
        "#Predict the response for test dataset\n",
        "y_pred = model.predict(X_test)\n",
        "\n",
        "# Model Accuracy, how often is the classifier correct?\n",
        "print(\"Accuracy:\",metrics.accuracy_score(y_test, y_pred))\n",
        "\n",
        "#Printing the accuracy score\n",
        "print(confusion_matrix(y_test,y_pred))\n",
        "print(classification_report(y_test,y_pred))\n",
        "\n",
        "# Print metric to assess the errors\n",
        "print('Mean Absolute Error:', metrics.mean_absolute_error(y_test, y_pred))  \n",
        "print('Mean Squared Error:', metrics.mean_squared_error(y_test, y_pred))  \n",
        "print('Root Mean Squared Error:', np.sqrt(metrics.mean_squared_error(y_test, y_pred)))"
      ],
      "execution_count": null,
      "outputs": [
        {
          "output_type": "stream",
          "text": [
            "Accuracy: 0.9852476290832455\n",
            "[[896   8]\n",
            " [  6  39]]\n",
            "              precision    recall  f1-score   support\n",
            "\n",
            "           0       0.99      0.99      0.99       904\n",
            "           1       0.83      0.87      0.85        45\n",
            "\n",
            "    accuracy                           0.99       949\n",
            "   macro avg       0.91      0.93      0.92       949\n",
            "weighted avg       0.99      0.99      0.99       949\n",
            "\n",
            "Mean Absolute Error: 0.014752370916754479\n",
            "Mean Squared Error: 0.014752370916754479\n",
            "Root Mean Squared Error: 0.1214593385325084\n"
          ],
          "name": "stdout"
        }
      ]
    },
    {
      "cell_type": "markdown",
      "metadata": {
        "id": "rh5K1Ls6380w",
        "colab_type": "text"
      },
      "source": [
        "Based on this model, we have achieved an accuracy of 98.5% and an RMSE OF 0.121. We have trained the model based on all the features that the dataset has. We will check for feature importance, then we traing the model on features that emerge to compare performance with this one. \n",
        "\n",
        "ii) Checking feature importance"
      ]
    },
    {
      "cell_type": "code",
      "metadata": {
        "id": "U3dO-jdO8FQU",
        "colab_type": "code",
        "colab": {
          "base_uri": "https://localhost:8080/",
          "height": 282
        },
        "outputId": "4f5b7d73-5891-4a99-fcf7-8527555db86c"
      },
      "source": [
        "#Checking feature importance\n",
        "#use inbuilt class feature_importances of tree based classifiers\n",
        "model = AdaBoostClassifier()\n",
        "model.fit(X,y)\n",
        "print(model.feature_importances_) \n",
        "\n",
        "#plot graph of feature importances for better visualization\n",
        "feat_importances = pd.Series(model.feature_importances_, index=X.columns)\n",
        "feat_importances.nlargest(5).plot(kind='barh')\n",
        "plt.show()"
      ],
      "execution_count": null,
      "outputs": [
        {
          "output_type": "stream",
          "text": [
            "[0. 0. 0. ... 0. 0. 0.]\n"
          ],
          "name": "stdout"
        },
        {
          "output_type": "display_data",
          "data": {
            "image/png": "[encoded data removed]",
            "text/plain": [
              "<Figure size 432x288 with 1 Axes>"
            ]
          },
          "metadata": {
            "tags": [],
            "needs_background": "light"
          }
        }
      ]
    },
    {
      "cell_type": "markdown",
      "metadata": {
        "id": "P6km-1162f7M",
        "colab_type": "text"
      },
      "source": [
        "We observe that based on this, top 3 features of importance that influence the condition we are predicting are TSH,age and thyroid surgery. We will determine the best parameters then we model using the 3 features and compare performance."
      ]
    },
    {
      "cell_type": "markdown",
      "metadata": {
        "id": "glIiDQVUrFlF",
        "colab_type": "text"
      },
      "source": [
        " iii) Parameter tuning"
      ]
    },
    {
      "cell_type": "code",
      "metadata": {
        "id": "0AIxNJZlr0Rk",
        "colab_type": "code",
        "colab": {
          "base_uri": "https://localhost:8080/",
          "height": 34
        },
        "outputId": "2b13281f-4be8-4566-9e35-68851caca32f"
      },
      "source": [
        "# Checking best parameters that we will apply to tune the model as we build a model with important features only\n",
        "\n",
        "parameters = {'n_estimators': [5, 20, 40, 80, 150],\n",
        "        'learning_rate': [2, 4,5,6, 8, 10]\n",
        "      }\n",
        "\n",
        "#We will apply cross validation of 10 folds\n",
        "\n",
        "kfold = KFold(n_splits = 10, shuffle=True)\n",
        "\n",
        "# #We will use gridSerach method to search for best parameters and 5 kfolds to validate\n",
        "classifier = AdaBoostClassifier()\n",
        "search = GridSearchCV(model, param_grid=parameters, scoring= 'f1', cv = kfold)\n",
        "\n",
        "# Fit our model with our variables \n",
        "#\n",
        "search.fit(X, y)\n",
        "\n",
        "# Checking for the best parameters\n",
        "\n",
        "print(f'Best parameters: {search.best_params_}')"
      ],
      "execution_count": null,
      "outputs": [
        {
          "output_type": "stream",
          "text": [
            "Best parameters: {'learning_rate': 2, 'n_estimators': 5}\n"
          ],
          "name": "stdout"
        }
      ]
    },
    {
      "cell_type": "markdown",
      "metadata": {
        "id": "V7xI8oMosL7X",
        "colab_type": "text"
      },
      "source": [
        "We observe that the best parameters to apply is learning rate of 2 and n_estimators of 5"
      ]
    },
    {
      "cell_type": "markdown",
      "metadata": {
        "id": "VSXE7pxXsMfF",
        "colab_type": "text"
      },
      "source": [
        "iv)AdaBoostClassifier with 3 features and best parameters"
      ]
    },
    {
      "cell_type": "code",
      "metadata": {
        "id": "DcQa_viwtES6",
        "colab_type": "code",
        "colab": {
          "base_uri": "https://localhost:8080/",
          "height": 272
        },
        "outputId": "748459ff-fff4-4706-fc88-5ba0c7471a18"
      },
      "source": [
        "# We will split the independent and dependent variables\n",
        "\n",
        "X = features[['TSH', 'thyroid_surgery','age']]\n",
        "\n",
        "y = np.where(df.status == 'hypothyroid', 1, 0)\n",
        "\n",
        "# Split dataset into training set and test set\n",
        "X_train, X_test, y_train, y_test = train_test_split(X, y, test_size=0.3) # 70% training and 30% test\n",
        "\n",
        "\n",
        "# Create adaboost classifer object\n",
        "adaboost = AdaBoostClassifier(n_estimators=5,\n",
        "                         learning_rate=2)\n",
        "# Train Adaboost Classifer \n",
        "model = adaboost.fit(X_train, y_train)\n",
        "\n",
        "#Predict the response for test dataset\n",
        "y_pred = model.predict(X_test)\n",
        "\n",
        "# Model Accuracy, how often is the classifier correct?\n",
        "print(\"Accuracy:\",metrics.accuracy_score(y_test, y_pred))\n",
        "\n",
        "#Printing the accuracy score\n",
        "print(confusion_matrix(y_test,y_pred))\n",
        "print(classification_report(y_test,y_pred))\n",
        "\n",
        "# Print metric to assess the errors\n",
        "print('Mean Absolute Error:', metrics.mean_absolute_error(y_test, y_pred))  \n",
        "print('Mean Squared Error:', metrics.mean_squared_error(y_test, y_pred))  \n",
        "print('Root Mean Squared Error:', np.sqrt(metrics.mean_squared_error(y_test, y_pred)))"
      ],
      "execution_count": null,
      "outputs": [
        {
          "output_type": "stream",
          "text": [
            "Accuracy: 0.9736564805057956\n",
            "[[887  14]\n",
            " [ 11  37]]\n",
            "              precision    recall  f1-score   support\n",
            "\n",
            "           0       0.99      0.98      0.99       901\n",
            "           1       0.73      0.77      0.75        48\n",
            "\n",
            "    accuracy                           0.97       949\n",
            "   macro avg       0.86      0.88      0.87       949\n",
            "weighted avg       0.97      0.97      0.97       949\n",
            "\n",
            "Mean Absolute Error: 0.026343519494204427\n",
            "Mean Squared Error: 0.026343519494204427\n",
            "Root Mean Squared Error: 0.1623068682902989\n"
          ],
          "name": "stdout"
        }
      ]
    },
    {
      "cell_type": "markdown",
      "metadata": {
        "id": "LOOdcp_ut7tq",
        "colab_type": "text"
      },
      "source": [
        "When we modelled using 3 features and best parameters, our model has achieved an accuracy score of 97.3 this is slightly lower that the perfomance of the first model where we applied all the features. The RMSE score achieved is also higher than our earlier model.\n",
        "\n",
        "As much as AdaBoost is sensitive to noisy data and outliers, the model performed better when we applied all the features, yet some of our variable had outliers"
      ]
    },
    {
      "cell_type": "markdown",
      "metadata": {
        "id": "sP919Jac5hH6",
        "colab_type": "text"
      },
      "source": [
        "d) SupportVectorMachine (SVM)\n",
        "\n",
        "* Brief\n",
        "\n",
        "Support vector machine ( SVM) is a supervised learning algorithm often used in classification. We will explore the following as we build our model:\n",
        "\n",
        "* \tKernel Function: This maps a lower dimension data to a higher dimension data. The function of a kernel is to take data as input and transform it into the required form. We have 4 types namely; Linear, non-linear, polynomial, radial basis function and sigmoid. \n",
        "\n",
        "\n",
        "*   Regularization: \n",
        "\n",
        "* C is the penalty parameter that represents misclassification or the error term. The misclassification or error term tells the SVM optimization how much error is bearable. A small value of C creates a small margin hyperplane and a larger value of C creates a large margin hyperplane. This is how we would optimize our model when your kernel is linear\n",
        "\n",
        "* Gamma: This parameter is specific to the rbf kernel. Intuitively this is a measure of how far each data point's influence on the hyperplane's creation should be. a high value for gamma means that the influence remains close to the data point, which can lead to overfitting. A low value means that the influence goes far, but that can oversimplify a model. \n",
        "\n",
        "\n"
      ]
    },
    {
      "cell_type": "markdown",
      "metadata": {
        "id": "8_AajfBdg5PC",
        "colab_type": "text"
      },
      "source": [
        "*Implementing SVM with only 2 features\n",
        "\n",
        "i)Kernel-Linear"
      ]
    },
    {
      "cell_type": "code",
      "metadata": {
        "id": "aGIRQUMqFrrc",
        "colab_type": "code",
        "colab": {
          "base_uri": "https://localhost:8080/",
          "height": 204
        },
        "outputId": "34d9c9b3-029c-41da-cbdd-43c5c505f522"
      },
      "source": [
        "#Seperating features and labels\n",
        "X = df[['TSH','age']].values\n",
        "\n",
        "y = np.where(df.status == 'hypothyroid', 1, 0)\n",
        "\n",
        "#divide data into training and test sets.\n",
        "from sklearn.model_selection import train_test_split\n",
        "X_train, X_test, y_train, y_test = train_test_split(X, y, test_size = 0.20)\n",
        "\n",
        "#We will standardize the data for better results\n",
        "from sklearn.preprocessing import StandardScaler\n",
        "sc = StandardScaler()\n",
        "X_train = sc.fit_transform(X_train)\n",
        "X_test = sc.transform(X_test)\n",
        "\n",
        "# #Train the algorithm on the training data, using the fit method. \n",
        "from sklearn.svm import SVC\n",
        "svclassifier = SVC(kernel='linear')\n",
        "svclassifier.fit(X_train, y_train)\n",
        "\n",
        "# #To make predictions, the predict method of the SVC class is used\n",
        "y_pred = svclassifier.predict(X_test)\n",
        "\n",
        "# #Print confusion matrix, precision, recall, and F1 measures as they are the most commonly used metrics for classification tasks.\n",
        "from sklearn.metrics import classification_report, confusion_matrix\n",
        "print(confusion_matrix(y_test,y_pred))\n",
        "print(classification_report(y_test,y_pred))\n"
      ],
      "execution_count": null,
      "outputs": [
        {
          "output_type": "stream",
          "text": [
            "[[598   4]\n",
            " [ 19  12]]\n",
            "              precision    recall  f1-score   support\n",
            "\n",
            "           0       0.97      0.99      0.98       602\n",
            "           1       0.75      0.39      0.51        31\n",
            "\n",
            "    accuracy                           0.96       633\n",
            "   macro avg       0.86      0.69      0.75       633\n",
            "weighted avg       0.96      0.96      0.96       633\n",
            "\n"
          ],
          "name": "stdout"
        }
      ]
    },
    {
      "cell_type": "markdown",
      "metadata": {
        "id": "rBw6aRLLId7G",
        "colab_type": "text"
      },
      "source": [
        "Our model achieved the accuracy score of 96% using 2 features"
      ]
    },
    {
      "cell_type": "markdown",
      "metadata": {
        "id": "4rSEUzq7IoMc",
        "colab_type": "text"
      },
      "source": [
        "ii)Kernel-Polynomial"
      ]
    },
    {
      "cell_type": "code",
      "metadata": {
        "id": "YzSPXYzrDFbs",
        "colab_type": "code",
        "colab": {
          "base_uri": "https://localhost:8080/",
          "height": 204
        },
        "outputId": "fb8b8cb4-de0d-4044-f6a5-33993daed9d5"
      },
      "source": [
        "#Seperating features and labels\n",
        "X = df[['TSH','age']].values \n",
        "\n",
        "y = np.where(df.status == 'hypothyroid', 1, 0)\n",
        "\n",
        "#divide data into training and test sets.\n",
        "from sklearn.model_selection import train_test_split\n",
        "X_train, X_test, y_train, y_test = train_test_split(X, y, test_size = 0.20)\n",
        "\n",
        " # Standardising the data\n",
        "from sklearn.preprocessing import StandardScaler\n",
        "sc = StandardScaler()\n",
        "X_train = sc.fit_transform(X_train)\n",
        "X_test = sc.transform(X_test)\n",
        "\n",
        "# #Train the algorithm on the training data, using the fit method. \n",
        "from sklearn.svm import SVC\n",
        "# fitting polynomial Building the model \n",
        "polyclassifier = SVC(kernel='poly',degree=3,gamma='auto')\n",
        "\n",
        "# Training the model using the training set\n",
        "polyclassifier.fit(X_train, y_train) \n",
        "# #To make predictions, the predict method of the SVC class is used\n",
        "y_pred = svclassifier.predict(X_test)\n",
        "\n",
        "# #Print confusion matrix, precision, recall, and F1 measures as they are the most commonly used metrics for classification tasks.\n",
        "from sklearn.metrics import classification_report, confusion_matrix\n",
        "print(confusion_matrix(y_test,y_pred))\n",
        "print(classification_report(y_test,y_pred))"
      ],
      "execution_count": null,
      "outputs": [
        {
          "output_type": "stream",
          "text": [
            "[[604   4]\n",
            " [ 11  14]]\n",
            "              precision    recall  f1-score   support\n",
            "\n",
            "           0       0.98      0.99      0.99       608\n",
            "           1       0.78      0.56      0.65        25\n",
            "\n",
            "    accuracy                           0.98       633\n",
            "   macro avg       0.88      0.78      0.82       633\n",
            "weighted avg       0.97      0.98      0.97       633\n",
            "\n"
          ],
          "name": "stdout"
        }
      ]
    },
    {
      "cell_type": "markdown",
      "metadata": {
        "id": "VtSm3ep_IuA7",
        "colab_type": "text"
      },
      "source": [
        "Our Model achieved accuracy score of 98% which is higher than what the linear achieved."
      ]
    },
    {
      "cell_type": "markdown",
      "metadata": {
        "id": "uiwNUTBvI5A3",
        "colab_type": "text"
      },
      "source": [
        "iii)Kernel-RBF"
      ]
    },
    {
      "cell_type": "code",
      "metadata": {
        "id": "ORJJdoj3Gv6Z",
        "colab_type": "code",
        "colab": {
          "base_uri": "https://localhost:8080/",
          "height": 68
        },
        "outputId": "092d2a87-ed36-4f05-8836-21b1add2e166"
      },
      "source": [
        "#Seperating features and labels\n",
        "X = df[['TSH','age']].values\n",
        "\n",
        "y = np.where(df.status == 'hypothyroid', 1, 0)\n",
        "\n",
        "#divide data into training and test sets.\n",
        "from sklearn.model_selection import train_test_split\n",
        "X_train, X_test, y_train, y_test = train_test_split(X, y, test_size = 0.20)\n",
        "\n",
        " # Standardising the data\n",
        "from sklearn.preprocessing import StandardScaler\n",
        "sc = StandardScaler()\n",
        "X_train = sc.fit_transform(X_train)\n",
        "X_test = sc.transform(X_test)\n",
        "\n",
        "# #Train the algorithm on the training data, using the fit method. \n",
        "from sklearn.svm import SVC\n",
        "# split the data into train and test set\n",
        "X_train, X_test, y_train, y_test = train_test_split(X, y, test_size = 0.2, random_state = 0)\n",
        "\n",
        "#fitting rbf\n",
        "# Building the model \n",
        "rbfclassifier = SVC(kernel='rbf')\n",
        "# Training the model using the training set\n",
        "rbfclassifier.fit(X_train, y_train)\n",
        "\n",
        "# making prediction\n",
        "y_pred = rbfclassifier.predict(X_test)\n",
        "\n",
        "# Model Evaluation\n",
        "from sklearn.metrics import  accuracy_score\n",
        "model_accuracy = accuracy_score(y_test,y_pred)\n",
        "print(model_accuracy)\n",
        "print(confusion_matrix(y_test, y_pred))\n"
      ],
      "execution_count": null,
      "outputs": [
        {
          "output_type": "stream",
          "text": [
            "0.9636650868878357\n",
            "[[598   9]\n",
            " [ 14  12]]\n"
          ],
          "name": "stdout"
        }
      ]
    },
    {
      "cell_type": "markdown",
      "metadata": {
        "id": "lL9ewB_1I_OY",
        "colab_type": "text"
      },
      "source": [
        "Our model achieved an accuracy score of 96.37%"
      ]
    },
    {
      "cell_type": "markdown",
      "metadata": {
        "id": "p7w_pdP4slNY",
        "colab_type": "text"
      },
      "source": [
        "\n",
        "\n",
        "*Support vector Machine with all the features\n",
        "\n",
        "i)Linear kernel"
      ]
    },
    {
      "cell_type": "code",
      "metadata": {
        "id": "WunEAUP7DMub",
        "colab_type": "code",
        "colab": {
          "base_uri": "https://localhost:8080/",
          "height": 204
        },
        "outputId": "8286b978-44e5-4846-a6f0-c6b9e3d815f4"
      },
      "source": [
        "# Seperating the target from our data\n",
        "\n",
        "features = df.drop(['status'], axis=1)\n",
        "\n",
        "features =pd.get_dummies(features)\n",
        "X =features\n",
        "\n",
        "y = np.where(df.status == 'hypothyroid', 1, 0)\n",
        "\n",
        "#  Split the data into train and test set\n",
        "X_train, X_test, y_train, y_test = train_test_split(X, y, test_size = 0.2, random_state = 0)\n",
        "y_test.shape\n",
        "\n",
        "\n",
        "# Let's now build the svm model \n",
        "model = SVC(kernel = 'linear')\n",
        "# Train the model using the training set\n",
        "model.fit(X_train,y_train)\n",
        "\n",
        "# Predict the response for the test set\n",
        "y_pred = model.predict(X_test)\n",
        "y_pred\n",
        "\n",
        "# Model Evaluation\n",
        "print(confusion_matrix(y_test, y_pred))\n",
        "print(classification_report(y_test,y_pred))\n"
      ],
      "execution_count": 49,
      "outputs": [
        {
          "output_type": "stream",
          "text": [
            "[[598   9]\n",
            " [ 11  15]]\n",
            "              precision    recall  f1-score   support\n",
            "\n",
            "           0       0.98      0.99      0.98       607\n",
            "           1       0.62      0.58      0.60        26\n",
            "\n",
            "    accuracy                           0.97       633\n",
            "   macro avg       0.80      0.78      0.79       633\n",
            "weighted avg       0.97      0.97      0.97       633\n",
            "\n"
          ],
          "name": "stdout"
        }
      ]
    },
    {
      "cell_type": "markdown",
      "metadata": {
        "id": "cZwRnJbW4otQ",
        "colab_type": "text"
      },
      "source": [
        "This model achieved an accuracy of 97%"
      ]
    },
    {
      "cell_type": "markdown",
      "metadata": {
        "id": "8b5mgv8wJSFM",
        "colab_type": "text"
      },
      "source": [
        "ii)Polynomial with all the features"
      ]
    },
    {
      "cell_type": "code",
      "metadata": {
        "id": "eWxDskpw4paO",
        "colab_type": "code",
        "colab": {
          "base_uri": "https://localhost:8080/",
          "height": 204
        },
        "outputId": "66432416-0ad0-4044-90df-afd5ca4603f2"
      },
      "source": [
        "# Seperating the target from our data\n",
        "\n",
        "features = df.drop(['status'], axis=1)\n",
        "\n",
        "features =pd.get_dummies(features)\n",
        "X =features \n",
        "\n",
        "y = np.where(df.status == 'hypothyroid', 1, 0)\n",
        "\n",
        "#  Split the data into train and test set\n",
        "X_train, X_test, y_train, y_test = train_test_split(X, y, test_size = 0.2, random_state = 0)\n",
        "\n",
        "\n",
        "# fitting polynomial Building the model \n",
        "polyclassifier = SVC(kernel='poly',degree=3,gamma='auto')\n",
        "# Training the model using the training set\n",
        "polyclassifier.fit(X_train, y_train) \n",
        "\n",
        "# Predict the response for the test set\n",
        "y_pred = model.predict(X_test)\n",
        "y_pred \n",
        "\n",
        "# Model Evaluation\n",
        "print(confusion_matrix(y_test, y_pred))\n",
        "print(classification_report(y_test,y_pred))"
      ],
      "execution_count": 50,
      "outputs": [
        {
          "output_type": "stream",
          "text": [
            "[[598   9]\n",
            " [ 11  15]]\n",
            "              precision    recall  f1-score   support\n",
            "\n",
            "           0       0.98      0.99      0.98       607\n",
            "           1       0.62      0.58      0.60        26\n",
            "\n",
            "    accuracy                           0.97       633\n",
            "   macro avg       0.80      0.78      0.79       633\n",
            "weighted avg       0.97      0.97      0.97       633\n",
            "\n"
          ],
          "name": "stdout"
        }
      ]
    },
    {
      "cell_type": "markdown",
      "metadata": {
        "id": "MV5fdqs1Jbqe",
        "colab_type": "text"
      },
      "source": [
        "Our Model achieved an accuracy score of 97% this is the same as performance with linear\n",
        "\n",
        "iii)RBF with all the features"
      ]
    },
    {
      "cell_type": "code",
      "metadata": {
        "id": "KbKLwIObHSwc",
        "colab_type": "code",
        "colab": {
          "base_uri": "https://localhost:8080/",
          "height": 85
        },
        "outputId": "19432582-b218-442d-d00b-02f689d0851e"
      },
      "source": [
        "# Seperating the target from our data\n",
        "\n",
        "features = df.drop(['status'], axis=1)\n",
        "\n",
        "features =pd.get_dummies(features)\n",
        "X =features\n",
        "\n",
        "y = np.where(df.status == 'hypothyroid', 1, 0)\n",
        "\n",
        "# split the data into train and test set\n",
        "X_train, X_test, y_train, y_test = train_test_split(X, y, test_size = 0.2, random_state = 0)\n",
        "\n",
        "#fitting rbf\n",
        "# Building the model \n",
        "rbfclassifier = SVC(kernel='rbf')\n",
        "# Training the model using the training set\n",
        "rbfclassifier.fit(X_train, y_train)"
      ],
      "execution_count": 53,
      "outputs": [
        {
          "output_type": "execute_result",
          "data": {
            "text/plain": [
              "SVC(C=1.0, break_ties=False, cache_size=200, class_weight=None, coef0=0.0,\n",
              "    decision_function_shape='ovr', degree=3, gamma='scale', kernel='rbf',\n",
              "    max_iter=-1, probability=False, random_state=None, shrinking=True,\n",
              "    tol=0.001, verbose=False)"
            ]
          },
          "metadata": {
            "tags": []
          },
          "execution_count": 53
        }
      ]
    },
    {
      "cell_type": "code",
      "metadata": {
        "id": "YpyJgmTDG2y8",
        "colab_type": "code",
        "colab": {
          "base_uri": "https://localhost:8080/",
          "height": 204
        },
        "outputId": "c1f15b82-290f-4ecb-aa84-e9e29622f359"
      },
      "source": [
        "# making prediction\n",
        "y_pred = rbfclassifier.predict(X_test)\n",
        "\n",
        "# Model Evaluation\n",
        "print(confusion_matrix(y_test, y_pred))\n",
        "print(classification_report(y_test,y_pred)) "
      ],
      "execution_count": 57,
      "outputs": [
        {
          "output_type": "stream",
          "text": [
            "[[606   1]\n",
            " [ 26   0]]\n",
            "              precision    recall  f1-score   support\n",
            "\n",
            "           0       0.96      1.00      0.98       607\n",
            "           1       0.00      0.00      0.00        26\n",
            "\n",
            "    accuracy                           0.96       633\n",
            "   macro avg       0.48      0.50      0.49       633\n",
            "weighted avg       0.92      0.96      0.94       633\n",
            "\n"
          ],
          "name": "stdout"
        }
      ]
    },
    {
      "cell_type": "markdown",
      "metadata": {
        "id": "XtALyhUc6Z5E",
        "colab_type": "text"
      },
      "source": [
        "Our model has acheived an accuracy of 96% and we have 606 true positives"
      ]
    },
    {
      "cell_type": "markdown",
      "metadata": {
        "id": "bLOZyYXyw-1t",
        "colab_type": "text"
      },
      "source": [
        "iv) Sigmoid with all the features"
      ]
    },
    {
      "cell_type": "code",
      "metadata": {
        "id": "omgYhFeOH0I7",
        "colab_type": "code",
        "colab": {
          "base_uri": "https://localhost:8080/",
          "height": 85
        },
        "outputId": "2182ef13-92a2-48a9-af7f-ed2bf46b4cae"
      },
      "source": [
        "# Seperating the target from our data\n",
        "\n",
        "features = df.drop(['status'], axis=1)\n",
        "\n",
        "features =pd.get_dummies(features)\n",
        "X =features\n",
        "\n",
        "y = np.where(df.status == 'hypothyroid', 1, 0)\n",
        "\n",
        "# split the data into train and test set\n",
        "X_train, X_test, y_train, y_test = train_test_split(X, y, test_size = 0.2, random_state = 0)\n",
        "# Building the model-sigmoid\n",
        "\n",
        "sigclassifier = SVC(kernel='sigmoid')\n",
        "# Training the model using the training set\n",
        "sigclassifier.fit(X_train, y_train)"
      ],
      "execution_count": 58,
      "outputs": [
        {
          "output_type": "execute_result",
          "data": {
            "text/plain": [
              "SVC(C=1.0, break_ties=False, cache_size=200, class_weight=None, coef0=0.0,\n",
              "    decision_function_shape='ovr', degree=3, gamma='scale', kernel='sigmoid',\n",
              "    max_iter=-1, probability=False, random_state=None, shrinking=True,\n",
              "    tol=0.001, verbose=False)"
            ]
          },
          "metadata": {
            "tags": []
          },
          "execution_count": 58
        }
      ]
    },
    {
      "cell_type": "code",
      "metadata": {
        "id": "25MEXEbJH0g6",
        "colab_type": "code",
        "colab": {
          "base_uri": "https://localhost:8080/",
          "height": 258
        },
        "outputId": "aa46d3f2-e268-44fd-e264-b93506c06ac3"
      },
      "source": [
        "# making prediction\n",
        "y_pred = sigclassifier.predict(X_test)\n",
        "\n",
        "\n",
        "# Model Evaluation\n",
        "print(confusion_matrix(y_test, y_pred))\n",
        "print(classification_report(y_test,y_pred))"
      ],
      "execution_count": 62,
      "outputs": [
        {
          "output_type": "stream",
          "text": [
            "[[607   0]\n",
            " [ 26   0]]\n",
            "              precision    recall  f1-score   support\n",
            "\n",
            "           0       0.96      1.00      0.98       607\n",
            "           1       0.00      0.00      0.00        26\n",
            "\n",
            "    accuracy                           0.96       633\n",
            "   macro avg       0.48      0.50      0.49       633\n",
            "weighted avg       0.92      0.96      0.94       633\n",
            "\n"
          ],
          "name": "stdout"
        },
        {
          "output_type": "stream",
          "text": [
            "/usr/local/lib/python3.6/dist-packages/sklearn/metrics/_classification.py:1272: UndefinedMetricWarning: Precision and F-score are ill-defined and being set to 0.0 in labels with no predicted samples. Use `zero_division` parameter to control this behavior.\n",
            "  _warn_prf(average, modifier, msg_start, len(result))\n"
          ],
          "name": "stderr"
        }
      ]
    },
    {
      "cell_type": "markdown",
      "metadata": {
        "id": "0Sh20BrUIUKH",
        "colab_type": "text"
      },
      "source": [
        "**Comparison of the Kernel Performance**\n",
        "\n",
        "When we compare the performance of the three kernel, the difference in performance is not very high. It is worth noting that linear and polynomial performed better at 97% accuracy score while RBF at 96%."
      ]
    },
    {
      "cell_type": "markdown",
      "metadata": {
        "id": "OZk9RrpojxxL",
        "colab_type": "text"
      },
      "source": [
        "# 8.Conclusion\n",
        "\n",
        "From the above models; random forest classifier perfomed best with an accuracy score of 99% when we applied all the features and without applying best parameters best even without normalizing or standardizing the data.This was followed by adaboost classifier with an accuracy score of 98.5%. SVM model with polynomial kernel performed better with an accuracy score of 98% in comparison with linear and RBF. \n",
        "It is also worth noting that SVM performed better with 2 features only as opposed to when we applied all the features\n",
        "\n",
        "The baseline models did not perform very well in comparison with the other models.Decisiom tree had an accuracy of 90% wile logistic 91%"
      ]
    },
    {
      "cell_type": "markdown",
      "metadata": {
        "id": "9lrTYAXHknRS",
        "colab_type": "text"
      },
      "source": [
        "#9.Challenging the solution\n",
        "The models applied performed very well with 90% and above. The fact that we applied a range of them was helpful as we were able to compare. This being a healthcare dataset, accuracy is very key as you expect patients to be classified right. I would therefore go with the best performing model which is RandomForestClassifier with 99% accuracy.\n"
      ]
    }
  ]
}